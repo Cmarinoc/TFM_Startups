{
 "cells": [
  {
   "cell_type": "markdown",
   "metadata": {},
   "source": [
    "# Segmentación de público objetivo: clustering"
   ]
  },
  {
   "cell_type": "markdown",
   "metadata": {},
   "source": [
    "Para ayudar a las startups a elegir dónde colocar su publicidad, realizaremos una segmentación de su público objetivo.\n",
    "\n",
    "Supongamos que tenemos datos sobre los clientes que han manifestado interés en cierta startup (obtenidos de una encuesta, por ejemplo). Se trata de definir varios segmentos (clusters) para ayudar a dicha startup a decidir hacia qué grupos de clientes enfocar su publicidad."
   ]
  },
  {
   "cell_type": "markdown",
   "metadata": {},
   "source": [
    "## Importación de librerías"
   ]
  },
  {
   "cell_type": "code",
   "execution_count": 113,
   "metadata": {},
   "outputs": [],
   "source": [
    "pd.set_option(\"display.max_columns\",None)\n",
    "pd.set_option(\"display.max_rows\",None)"
   ]
  },
  {
   "cell_type": "markdown",
   "metadata": {},
   "source": [
    "**Librerías generales**"
   ]
  },
  {
   "cell_type": "code",
   "execution_count": 101,
   "metadata": {},
   "outputs": [],
   "source": [
    "import os\n",
    "import pandas as pd\n",
    "import numpy as np\n",
    "import matplotlib.pyplot as plt\n",
    "from sklearn.preprocessing import LabelEncoder"
   ]
  },
  {
   "cell_type": "markdown",
   "metadata": {},
   "source": [
    "**Librerías para el clustering**"
   ]
  },
  {
   "cell_type": "code",
   "execution_count": 28,
   "metadata": {},
   "outputs": [
    {
     "name": "stdout",
     "output_type": "stream",
     "text": [
      "Requirement already satisfied: kmodes in /anaconda3/lib/python3.7/site-packages (0.10.2)\n",
      "Requirement already satisfied: joblib>=0.11 in /anaconda3/lib/python3.7/site-packages (from kmodes) (0.13.2)\n",
      "Requirement already satisfied: scikit-learn>=0.19.0 in /anaconda3/lib/python3.7/site-packages (from kmodes) (0.21.2)\n",
      "Requirement already satisfied: scipy>=0.13.3 in /anaconda3/lib/python3.7/site-packages (from kmodes) (1.5.2)\n",
      "Requirement already satisfied: numpy>=1.10.4 in /anaconda3/lib/python3.7/site-packages (from kmodes) (1.16.4)\n",
      "Note: you may need to restart the kernel to use updated packages.\n"
     ]
    }
   ],
   "source": [
    "pip install kmodes #kmodes no viene instalado en python por defecto"
   ]
  },
  {
   "cell_type": "code",
   "execution_count": 29,
   "metadata": {},
   "outputs": [],
   "source": [
    "import kmodes\n",
    "from kmodes.kmodes import KModes"
   ]
  },
  {
   "cell_type": "markdown",
   "metadata": {},
   "source": [
    "## Importación de datos"
   ]
  },
  {
   "cell_type": "markdown",
   "metadata": {},
   "source": [
    "Utilizaremos el dataset *hobbies* encontrado en la librería de R *FactoMineR*. Este dataset contiene distintos intereses y características demográficas de personas (edad, profesión, género)."
   ]
  },
  {
   "cell_type": "code",
   "execution_count": 41,
   "metadata": {},
   "outputs": [],
   "source": [
    "current_path = os.getcwd() #obtener la ruta donde se guarda este cuaderno\n",
    "dataset_path =current_path+'/clients_profile.csv' #obtener la ruta donde se guarda el conjunto de datos de los clientes"
   ]
  },
  {
   "cell_type": "code",
   "execution_count": 81,
   "metadata": {},
   "outputs": [],
   "source": [
    "original_df=pd.read_csv(dataset_path, na_values=['none','None'])"
   ]
  },
  {
   "cell_type": "code",
   "execution_count": 43,
   "metadata": {},
   "outputs": [
    {
     "data": {
      "text/html": [
       "<div>\n",
       "<style scoped>\n",
       "    .dataframe tbody tr th:only-of-type {\n",
       "        vertical-align: middle;\n",
       "    }\n",
       "\n",
       "    .dataframe tbody tr th {\n",
       "        vertical-align: top;\n",
       "    }\n",
       "\n",
       "    .dataframe thead th {\n",
       "        text-align: right;\n",
       "    }\n",
       "</style>\n",
       "<table border=\"1\" class=\"dataframe\">\n",
       "  <thead>\n",
       "    <tr style=\"text-align: right;\">\n",
       "      <th></th>\n",
       "      <th>Unnamed: 0</th>\n",
       "      <th>Reading</th>\n",
       "      <th>Listening music</th>\n",
       "      <th>Cinema</th>\n",
       "      <th>Show</th>\n",
       "      <th>Exhibition</th>\n",
       "      <th>Computer</th>\n",
       "      <th>Sport</th>\n",
       "      <th>Walking</th>\n",
       "      <th>Travelling</th>\n",
       "      <th>Playing music</th>\n",
       "      <th>Collecting</th>\n",
       "      <th>Volunteering</th>\n",
       "      <th>Mechanic</th>\n",
       "      <th>Gardening</th>\n",
       "      <th>Knitting</th>\n",
       "      <th>Cooking</th>\n",
       "      <th>Fishing</th>\n",
       "      <th>TV</th>\n",
       "      <th>nb.activitees</th>\n",
       "    </tr>\n",
       "  </thead>\n",
       "  <tbody>\n",
       "    <tr>\n",
       "      <th>count</th>\n",
       "      <td>8.403000e+03</td>\n",
       "      <td>8403.000000</td>\n",
       "      <td>8403.000000</td>\n",
       "      <td>8403.000000</td>\n",
       "      <td>8403.000000</td>\n",
       "      <td>8403.000000</td>\n",
       "      <td>8403.000000</td>\n",
       "      <td>8403.000000</td>\n",
       "      <td>8403.000000</td>\n",
       "      <td>8403.000000</td>\n",
       "      <td>8403.000000</td>\n",
       "      <td>8403.000000</td>\n",
       "      <td>8403.000000</td>\n",
       "      <td>8403.000000</td>\n",
       "      <td>8403.000000</td>\n",
       "      <td>8403.000000</td>\n",
       "      <td>8403.000000</td>\n",
       "      <td>8403.00000</td>\n",
       "      <td>8403.000000</td>\n",
       "      <td>8403.000000</td>\n",
       "    </tr>\n",
       "    <tr>\n",
       "      <th>mean</th>\n",
       "      <td>5.067652e+07</td>\n",
       "      <td>0.671903</td>\n",
       "      <td>0.707723</td>\n",
       "      <td>0.399738</td>\n",
       "      <td>0.288587</td>\n",
       "      <td>0.308818</td>\n",
       "      <td>0.375818</td>\n",
       "      <td>0.368321</td>\n",
       "      <td>0.496846</td>\n",
       "      <td>0.400214</td>\n",
       "      <td>0.173747</td>\n",
       "      <td>0.102582</td>\n",
       "      <td>0.152922</td>\n",
       "      <td>0.421159</td>\n",
       "      <td>0.399381</td>\n",
       "      <td>0.168154</td>\n",
       "      <td>0.438653</td>\n",
       "      <td>0.11246</td>\n",
       "      <td>2.354873</td>\n",
       "      <td>6.866000</td>\n",
       "    </tr>\n",
       "    <tr>\n",
       "      <th>std</th>\n",
       "      <td>2.713636e+07</td>\n",
       "      <td>0.469548</td>\n",
       "      <td>0.454836</td>\n",
       "      <td>0.489874</td>\n",
       "      <td>0.453133</td>\n",
       "      <td>0.462033</td>\n",
       "      <td>0.484362</td>\n",
       "      <td>0.482378</td>\n",
       "      <td>0.500020</td>\n",
       "      <td>0.489971</td>\n",
       "      <td>0.378915</td>\n",
       "      <td>0.303431</td>\n",
       "      <td>0.359933</td>\n",
       "      <td>0.493774</td>\n",
       "      <td>0.489800</td>\n",
       "      <td>0.374025</td>\n",
       "      <td>0.496252</td>\n",
       "      <td>0.31595</td>\n",
       "      <td>1.333283</td>\n",
       "      <td>3.382593</td>\n",
       "    </tr>\n",
       "    <tr>\n",
       "      <th>min</th>\n",
       "      <td>1.100021e+07</td>\n",
       "      <td>0.000000</td>\n",
       "      <td>0.000000</td>\n",
       "      <td>0.000000</td>\n",
       "      <td>0.000000</td>\n",
       "      <td>0.000000</td>\n",
       "      <td>0.000000</td>\n",
       "      <td>0.000000</td>\n",
       "      <td>0.000000</td>\n",
       "      <td>0.000000</td>\n",
       "      <td>0.000000</td>\n",
       "      <td>0.000000</td>\n",
       "      <td>0.000000</td>\n",
       "      <td>0.000000</td>\n",
       "      <td>0.000000</td>\n",
       "      <td>0.000000</td>\n",
       "      <td>0.000000</td>\n",
       "      <td>0.00000</td>\n",
       "      <td>0.000000</td>\n",
       "      <td>0.000000</td>\n",
       "    </tr>\n",
       "    <tr>\n",
       "      <th>25%</th>\n",
       "      <td>2.404801e+07</td>\n",
       "      <td>0.000000</td>\n",
       "      <td>0.000000</td>\n",
       "      <td>0.000000</td>\n",
       "      <td>0.000000</td>\n",
       "      <td>0.000000</td>\n",
       "      <td>0.000000</td>\n",
       "      <td>0.000000</td>\n",
       "      <td>0.000000</td>\n",
       "      <td>0.000000</td>\n",
       "      <td>0.000000</td>\n",
       "      <td>0.000000</td>\n",
       "      <td>0.000000</td>\n",
       "      <td>0.000000</td>\n",
       "      <td>0.000000</td>\n",
       "      <td>0.000000</td>\n",
       "      <td>0.000000</td>\n",
       "      <td>0.00000</td>\n",
       "      <td>1.000000</td>\n",
       "      <td>4.000000</td>\n",
       "    </tr>\n",
       "    <tr>\n",
       "      <th>50%</th>\n",
       "      <td>4.302461e+07</td>\n",
       "      <td>1.000000</td>\n",
       "      <td>1.000000</td>\n",
       "      <td>0.000000</td>\n",
       "      <td>0.000000</td>\n",
       "      <td>0.000000</td>\n",
       "      <td>0.000000</td>\n",
       "      <td>0.000000</td>\n",
       "      <td>0.000000</td>\n",
       "      <td>0.000000</td>\n",
       "      <td>0.000000</td>\n",
       "      <td>0.000000</td>\n",
       "      <td>0.000000</td>\n",
       "      <td>0.000000</td>\n",
       "      <td>0.000000</td>\n",
       "      <td>0.000000</td>\n",
       "      <td>0.000000</td>\n",
       "      <td>0.00000</td>\n",
       "      <td>2.000000</td>\n",
       "      <td>7.000000</td>\n",
       "    </tr>\n",
       "    <tr>\n",
       "      <th>75%</th>\n",
       "      <td>8.200756e+07</td>\n",
       "      <td>1.000000</td>\n",
       "      <td>1.000000</td>\n",
       "      <td>1.000000</td>\n",
       "      <td>1.000000</td>\n",
       "      <td>1.000000</td>\n",
       "      <td>1.000000</td>\n",
       "      <td>1.000000</td>\n",
       "      <td>1.000000</td>\n",
       "      <td>1.000000</td>\n",
       "      <td>0.000000</td>\n",
       "      <td>0.000000</td>\n",
       "      <td>0.000000</td>\n",
       "      <td>1.000000</td>\n",
       "      <td>1.000000</td>\n",
       "      <td>0.000000</td>\n",
       "      <td>1.000000</td>\n",
       "      <td>0.00000</td>\n",
       "      <td>4.000000</td>\n",
       "      <td>9.000000</td>\n",
       "    </tr>\n",
       "    <tr>\n",
       "      <th>max</th>\n",
       "      <td>9.312941e+07</td>\n",
       "      <td>1.000000</td>\n",
       "      <td>1.000000</td>\n",
       "      <td>1.000000</td>\n",
       "      <td>1.000000</td>\n",
       "      <td>1.000000</td>\n",
       "      <td>1.000000</td>\n",
       "      <td>1.000000</td>\n",
       "      <td>1.000000</td>\n",
       "      <td>1.000000</td>\n",
       "      <td>1.000000</td>\n",
       "      <td>1.000000</td>\n",
       "      <td>1.000000</td>\n",
       "      <td>1.000000</td>\n",
       "      <td>1.000000</td>\n",
       "      <td>1.000000</td>\n",
       "      <td>1.000000</td>\n",
       "      <td>1.00000</td>\n",
       "      <td>4.000000</td>\n",
       "      <td>16.000000</td>\n",
       "    </tr>\n",
       "  </tbody>\n",
       "</table>\n",
       "</div>"
      ],
      "text/plain": [
       "         Unnamed: 0      Reading  Listening music       Cinema         Show  \\\n",
       "count  8.403000e+03  8403.000000      8403.000000  8403.000000  8403.000000   \n",
       "mean   5.067652e+07     0.671903         0.707723     0.399738     0.288587   \n",
       "std    2.713636e+07     0.469548         0.454836     0.489874     0.453133   \n",
       "min    1.100021e+07     0.000000         0.000000     0.000000     0.000000   \n",
       "25%    2.404801e+07     0.000000         0.000000     0.000000     0.000000   \n",
       "50%    4.302461e+07     1.000000         1.000000     0.000000     0.000000   \n",
       "75%    8.200756e+07     1.000000         1.000000     1.000000     1.000000   \n",
       "max    9.312941e+07     1.000000         1.000000     1.000000     1.000000   \n",
       "\n",
       "        Exhibition     Computer        Sport      Walking   Travelling  \\\n",
       "count  8403.000000  8403.000000  8403.000000  8403.000000  8403.000000   \n",
       "mean      0.308818     0.375818     0.368321     0.496846     0.400214   \n",
       "std       0.462033     0.484362     0.482378     0.500020     0.489971   \n",
       "min       0.000000     0.000000     0.000000     0.000000     0.000000   \n",
       "25%       0.000000     0.000000     0.000000     0.000000     0.000000   \n",
       "50%       0.000000     0.000000     0.000000     0.000000     0.000000   \n",
       "75%       1.000000     1.000000     1.000000     1.000000     1.000000   \n",
       "max       1.000000     1.000000     1.000000     1.000000     1.000000   \n",
       "\n",
       "       Playing music   Collecting  Volunteering     Mechanic    Gardening  \\\n",
       "count    8403.000000  8403.000000   8403.000000  8403.000000  8403.000000   \n",
       "mean        0.173747     0.102582      0.152922     0.421159     0.399381   \n",
       "std         0.378915     0.303431      0.359933     0.493774     0.489800   \n",
       "min         0.000000     0.000000      0.000000     0.000000     0.000000   \n",
       "25%         0.000000     0.000000      0.000000     0.000000     0.000000   \n",
       "50%         0.000000     0.000000      0.000000     0.000000     0.000000   \n",
       "75%         0.000000     0.000000      0.000000     1.000000     1.000000   \n",
       "max         1.000000     1.000000      1.000000     1.000000     1.000000   \n",
       "\n",
       "          Knitting      Cooking     Fishing           TV  nb.activitees  \n",
       "count  8403.000000  8403.000000  8403.00000  8403.000000    8403.000000  \n",
       "mean      0.168154     0.438653     0.11246     2.354873       6.866000  \n",
       "std       0.374025     0.496252     0.31595     1.333283       3.382593  \n",
       "min       0.000000     0.000000     0.00000     0.000000       0.000000  \n",
       "25%       0.000000     0.000000     0.00000     1.000000       4.000000  \n",
       "50%       0.000000     0.000000     0.00000     2.000000       7.000000  \n",
       "75%       0.000000     1.000000     0.00000     4.000000       9.000000  \n",
       "max       1.000000     1.000000     1.00000     4.000000      16.000000  "
      ]
     },
     "execution_count": 43,
     "metadata": {},
     "output_type": "execute_result"
    }
   ],
   "source": [
    "original_df.describe()"
   ]
  },
  {
   "cell_type": "code",
   "execution_count": 44,
   "metadata": {},
   "outputs": [
    {
     "data": {
      "text/plain": [
       "8403"
      ]
     },
     "execution_count": 44,
     "metadata": {},
     "output_type": "execute_result"
    }
   ],
   "source": [
    "len(original_df) "
   ]
  },
  {
   "cell_type": "code",
   "execution_count": 45,
   "metadata": {},
   "outputs": [
    {
     "data": {
      "text/plain": [
       "24"
      ]
     },
     "execution_count": 45,
     "metadata": {},
     "output_type": "execute_result"
    }
   ],
   "source": [
    "len(original_df.columns) "
   ]
  },
  {
   "cell_type": "markdown",
   "metadata": {},
   "source": [
    "## Introducción a k-modes"
   ]
  },
  {
   "cell_type": "markdown",
   "metadata": {},
   "source": [
    "Para realizar el clustering utilizamos el método k-modes. Es una alternativa a k-means cuando tenemos variables categóricas, ya que k-means se basa en minimizar la varianza (suma de la distancia euclídea entre cada observación y la media al cuadrado) dentro de cada cluster, y esto solo funciona si tenemos variables numéricas.\n",
    "\n",
    "La métrica utilizada en k-modes es Hamming distance o dissimilarity (information theory). Con esta medida, la distancia entre dos filas es simplemente el número de columnas en las que difieren entre sí. Así, este algoritmo trata de minimizar la suma de la distancia hamming entre cada observación y la moda de cada cluster al cuadrado (la moda será la categoría más común de cada variable en ese cluster, \"0\" o \"1\")."
   ]
  },
  {
   "cell_type": "markdown",
   "metadata": {},
   "source": [
    "Ejemplos de aplicación de k-modes:\n",
    "\n",
    "https://medium.com/@davidmasse8/unsupervised-learning-for-categorical-data-dd7e497033ae\n",
    "\n",
    "https://www.kaggle.com/ashydv/bank-customer-clustering-k-modes-clustering"
   ]
  },
  {
   "cell_type": "markdown",
   "metadata": {},
   "source": [
    "## Procesamiento previo de los datos\n"
   ]
  },
  {
   "cell_type": "markdown",
   "metadata": {},
   "source": [
    "### 1. Eliminar variables que no interesan y convertir todas a categóricas"
   ]
  },
  {
   "cell_type": "code",
   "execution_count": 60,
   "metadata": {},
   "outputs": [
    {
     "name": "stdout",
     "output_type": "stream",
     "text": [
      "<class 'pandas.core.frame.DataFrame'>\n",
      "RangeIndex: 8403 entries, 0 to 8402\n",
      "Data columns (total 24 columns):\n",
      " #   Column           Non-Null Count  Dtype \n",
      "---  ------           --------------  ----- \n",
      " 0   Unnamed: 0       8403 non-null   int64 \n",
      " 1   Reading          8403 non-null   int64 \n",
      " 2   Listening music  8403 non-null   int64 \n",
      " 3   Cinema           8403 non-null   int64 \n",
      " 4   Show             8403 non-null   int64 \n",
      " 5   Exhibition       8403 non-null   int64 \n",
      " 6   Computer         8403 non-null   int64 \n",
      " 7   Sport            8403 non-null   int64 \n",
      " 8   Walking          8403 non-null   int64 \n",
      " 9   Travelling       8403 non-null   int64 \n",
      " 10  Playing music    8403 non-null   int64 \n",
      " 11  Collecting       8403 non-null   int64 \n",
      " 12  Volunteering     8403 non-null   int64 \n",
      " 13  Mechanic         8403 non-null   int64 \n",
      " 14  Gardening        8403 non-null   int64 \n",
      " 15  Knitting         8403 non-null   int64 \n",
      " 16  Cooking          8403 non-null   int64 \n",
      " 17  Fishing          8403 non-null   int64 \n",
      " 18  TV               8403 non-null   int64 \n",
      " 19  Sex              8403 non-null   object\n",
      " 20  Age              8403 non-null   object\n",
      " 21  Marital status   8403 non-null   object\n",
      " 22  Profession       6905 non-null   object\n",
      " 23  nb.activitees    8403 non-null   int64 \n",
      "dtypes: int64(20), object(4)\n",
      "memory usage: 1.5+ MB\n"
     ]
    }
   ],
   "source": [
    "original_df.info() #hay muchas variables categóricas que aparecen como numéricas"
   ]
  },
  {
   "cell_type": "code",
   "execution_count": 82,
   "metadata": {},
   "outputs": [],
   "source": [
    "df_elim=original_df.drop([\"Unnamed: 0\",\"nb.activitees\"], axis=1) #eliminación previa de variables"
   ]
  },
  {
   "cell_type": "code",
   "execution_count": 83,
   "metadata": {},
   "outputs": [],
   "source": [
    "df_categ=df_elim.astype(object) #conversión a categóricas"
   ]
  },
  {
   "cell_type": "code",
   "execution_count": 84,
   "metadata": {},
   "outputs": [
    {
     "name": "stdout",
     "output_type": "stream",
     "text": [
      "<class 'pandas.core.frame.DataFrame'>\n",
      "RangeIndex: 8403 entries, 0 to 8402\n",
      "Data columns (total 22 columns):\n",
      " #   Column           Non-Null Count  Dtype \n",
      "---  ------           --------------  ----- \n",
      " 0   Reading          8403 non-null   object\n",
      " 1   Listening music  8403 non-null   object\n",
      " 2   Cinema           8403 non-null   object\n",
      " 3   Show             8403 non-null   object\n",
      " 4   Exhibition       8403 non-null   object\n",
      " 5   Computer         8403 non-null   object\n",
      " 6   Sport            8403 non-null   object\n",
      " 7   Walking          8403 non-null   object\n",
      " 8   Travelling       8403 non-null   object\n",
      " 9   Playing music    8403 non-null   object\n",
      " 10  Collecting       8403 non-null   object\n",
      " 11  Volunteering     8403 non-null   object\n",
      " 12  Mechanic         8403 non-null   object\n",
      " 13  Gardening        8403 non-null   object\n",
      " 14  Knitting         8403 non-null   object\n",
      " 15  Cooking          8403 non-null   object\n",
      " 16  Fishing          8403 non-null   object\n",
      " 17  TV               8403 non-null   object\n",
      " 18  Sex              8403 non-null   object\n",
      " 19  Age              8403 non-null   object\n",
      " 20  Marital status   8403 non-null   object\n",
      " 21  Profession       6905 non-null   object\n",
      "dtypes: object(22)\n",
      "memory usage: 1.4+ MB\n"
     ]
    }
   ],
   "source": [
    "df_categ.info() "
   ]
  },
  {
   "cell_type": "code",
   "execution_count": 128,
   "metadata": {},
   "outputs": [
    {
     "data": {
      "text/html": [
       "<div>\n",
       "<style scoped>\n",
       "    .dataframe tbody tr th:only-of-type {\n",
       "        vertical-align: middle;\n",
       "    }\n",
       "\n",
       "    .dataframe tbody tr th {\n",
       "        vertical-align: top;\n",
       "    }\n",
       "\n",
       "    .dataframe thead th {\n",
       "        text-align: right;\n",
       "    }\n",
       "</style>\n",
       "<table border=\"1\" class=\"dataframe\">\n",
       "  <thead>\n",
       "    <tr style=\"text-align: right;\">\n",
       "      <th></th>\n",
       "      <th>Reading</th>\n",
       "      <th>Listening music</th>\n",
       "      <th>Cinema</th>\n",
       "      <th>Show</th>\n",
       "      <th>Exhibition</th>\n",
       "      <th>Computer</th>\n",
       "      <th>Sport</th>\n",
       "      <th>Walking</th>\n",
       "      <th>Travelling</th>\n",
       "      <th>Playing music</th>\n",
       "      <th>Collecting</th>\n",
       "      <th>Volunteering</th>\n",
       "      <th>Mechanic</th>\n",
       "      <th>Gardening</th>\n",
       "      <th>Knitting</th>\n",
       "      <th>Cooking</th>\n",
       "      <th>Fishing</th>\n",
       "      <th>TV</th>\n",
       "      <th>Sex</th>\n",
       "      <th>Age</th>\n",
       "      <th>Marital status</th>\n",
       "      <th>Profession</th>\n",
       "    </tr>\n",
       "  </thead>\n",
       "  <tbody>\n",
       "    <tr>\n",
       "      <th>count</th>\n",
       "      <td>8403</td>\n",
       "      <td>8403</td>\n",
       "      <td>8403</td>\n",
       "      <td>8403</td>\n",
       "      <td>8403</td>\n",
       "      <td>8403</td>\n",
       "      <td>8403</td>\n",
       "      <td>8403</td>\n",
       "      <td>8403</td>\n",
       "      <td>8403</td>\n",
       "      <td>8403</td>\n",
       "      <td>8403</td>\n",
       "      <td>8403</td>\n",
       "      <td>8403</td>\n",
       "      <td>8403</td>\n",
       "      <td>8403</td>\n",
       "      <td>8403</td>\n",
       "      <td>8403</td>\n",
       "      <td>8403</td>\n",
       "      <td>8403</td>\n",
       "      <td>8403</td>\n",
       "      <td>8403</td>\n",
       "    </tr>\n",
       "    <tr>\n",
       "      <th>unique</th>\n",
       "      <td>2</td>\n",
       "      <td>2</td>\n",
       "      <td>2</td>\n",
       "      <td>2</td>\n",
       "      <td>2</td>\n",
       "      <td>2</td>\n",
       "      <td>2</td>\n",
       "      <td>2</td>\n",
       "      <td>2</td>\n",
       "      <td>2</td>\n",
       "      <td>2</td>\n",
       "      <td>2</td>\n",
       "      <td>2</td>\n",
       "      <td>2</td>\n",
       "      <td>2</td>\n",
       "      <td>2</td>\n",
       "      <td>2</td>\n",
       "      <td>5</td>\n",
       "      <td>2</td>\n",
       "      <td>8</td>\n",
       "      <td>5</td>\n",
       "      <td>8</td>\n",
       "    </tr>\n",
       "    <tr>\n",
       "      <th>top</th>\n",
       "      <td>1</td>\n",
       "      <td>1</td>\n",
       "      <td>0</td>\n",
       "      <td>0</td>\n",
       "      <td>0</td>\n",
       "      <td>0</td>\n",
       "      <td>0</td>\n",
       "      <td>0</td>\n",
       "      <td>0</td>\n",
       "      <td>0</td>\n",
       "      <td>0</td>\n",
       "      <td>0</td>\n",
       "      <td>0</td>\n",
       "      <td>0</td>\n",
       "      <td>0</td>\n",
       "      <td>0</td>\n",
       "      <td>0</td>\n",
       "      <td>4</td>\n",
       "      <td>F</td>\n",
       "      <td>(45,55]</td>\n",
       "      <td>Married</td>\n",
       "      <td>Employee</td>\n",
       "    </tr>\n",
       "    <tr>\n",
       "      <th>freq</th>\n",
       "      <td>5646</td>\n",
       "      <td>5947</td>\n",
       "      <td>5044</td>\n",
       "      <td>5978</td>\n",
       "      <td>5808</td>\n",
       "      <td>5245</td>\n",
       "      <td>5308</td>\n",
       "      <td>4228</td>\n",
       "      <td>5040</td>\n",
       "      <td>6943</td>\n",
       "      <td>7541</td>\n",
       "      <td>7118</td>\n",
       "      <td>4864</td>\n",
       "      <td>5047</td>\n",
       "      <td>6990</td>\n",
       "      <td>4717</td>\n",
       "      <td>7458</td>\n",
       "      <td>2232</td>\n",
       "      <td>4616</td>\n",
       "      <td>1837</td>\n",
       "      <td>4333</td>\n",
       "      <td>2552</td>\n",
       "    </tr>\n",
       "  </tbody>\n",
       "</table>\n",
       "</div>"
      ],
      "text/plain": [
       "        Reading  Listening music  Cinema  Show  Exhibition  Computer  Sport  \\\n",
       "count      8403             8403    8403  8403        8403      8403   8403   \n",
       "unique        2                2       2     2           2         2      2   \n",
       "top           1                1       0     0           0         0      0   \n",
       "freq       5646             5947    5044  5978        5808      5245   5308   \n",
       "\n",
       "        Walking  Travelling  Playing music  Collecting  Volunteering  \\\n",
       "count      8403        8403           8403        8403          8403   \n",
       "unique        2           2              2           2             2   \n",
       "top           0           0              0           0             0   \n",
       "freq       4228        5040           6943        7541          7118   \n",
       "\n",
       "        Mechanic  Gardening  Knitting  Cooking  Fishing    TV   Sex      Age  \\\n",
       "count       8403       8403      8403     8403     8403  8403  8403     8403   \n",
       "unique         2          2         2        2        2     5     2        8   \n",
       "top            0          0         0        0        0     4     F  (45,55]   \n",
       "freq        4864       5047      6990     4717     7458  2232  4616     1837   \n",
       "\n",
       "       Marital status Profession  \n",
       "count            8403       8403  \n",
       "unique              5          8  \n",
       "top           Married   Employee  \n",
       "freq             4333       2552  "
      ]
     },
     "execution_count": 128,
     "metadata": {},
     "output_type": "execute_result"
    }
   ],
   "source": [
    "df_categ.describe()"
   ]
  },
  {
   "cell_type": "markdown",
   "metadata": {},
   "source": [
    "### 2. Eliminar valores nulos"
   ]
  },
  {
   "cell_type": "code",
   "execution_count": 85,
   "metadata": {},
   "outputs": [],
   "source": [
    "num_na_columns=pd.DataFrame({\"Num NaN\" : df_categ.isna().sum(),\n",
    "                            \"Prop NaN\": df_categ.isna().sum() / len(df_categ)}, \n",
    "                            columns=[\"Num NaN\", \"Prop NaN\"])"
   ]
  },
  {
   "cell_type": "code",
   "execution_count": 86,
   "metadata": {},
   "outputs": [
    {
     "data": {
      "text/html": [
       "<div>\n",
       "<style scoped>\n",
       "    .dataframe tbody tr th:only-of-type {\n",
       "        vertical-align: middle;\n",
       "    }\n",
       "\n",
       "    .dataframe tbody tr th {\n",
       "        vertical-align: top;\n",
       "    }\n",
       "\n",
       "    .dataframe thead th {\n",
       "        text-align: right;\n",
       "    }\n",
       "</style>\n",
       "<table border=\"1\" class=\"dataframe\">\n",
       "  <thead>\n",
       "    <tr style=\"text-align: right;\">\n",
       "      <th></th>\n",
       "      <th>Num NaN</th>\n",
       "      <th>Prop NaN</th>\n",
       "    </tr>\n",
       "  </thead>\n",
       "  <tbody>\n",
       "    <tr>\n",
       "      <th>Reading</th>\n",
       "      <td>0</td>\n",
       "      <td>0.00000</td>\n",
       "    </tr>\n",
       "    <tr>\n",
       "      <th>Listening music</th>\n",
       "      <td>0</td>\n",
       "      <td>0.00000</td>\n",
       "    </tr>\n",
       "    <tr>\n",
       "      <th>Cinema</th>\n",
       "      <td>0</td>\n",
       "      <td>0.00000</td>\n",
       "    </tr>\n",
       "    <tr>\n",
       "      <th>Show</th>\n",
       "      <td>0</td>\n",
       "      <td>0.00000</td>\n",
       "    </tr>\n",
       "    <tr>\n",
       "      <th>Exhibition</th>\n",
       "      <td>0</td>\n",
       "      <td>0.00000</td>\n",
       "    </tr>\n",
       "    <tr>\n",
       "      <th>Computer</th>\n",
       "      <td>0</td>\n",
       "      <td>0.00000</td>\n",
       "    </tr>\n",
       "    <tr>\n",
       "      <th>Sport</th>\n",
       "      <td>0</td>\n",
       "      <td>0.00000</td>\n",
       "    </tr>\n",
       "    <tr>\n",
       "      <th>Walking</th>\n",
       "      <td>0</td>\n",
       "      <td>0.00000</td>\n",
       "    </tr>\n",
       "    <tr>\n",
       "      <th>Travelling</th>\n",
       "      <td>0</td>\n",
       "      <td>0.00000</td>\n",
       "    </tr>\n",
       "    <tr>\n",
       "      <th>Playing music</th>\n",
       "      <td>0</td>\n",
       "      <td>0.00000</td>\n",
       "    </tr>\n",
       "    <tr>\n",
       "      <th>Collecting</th>\n",
       "      <td>0</td>\n",
       "      <td>0.00000</td>\n",
       "    </tr>\n",
       "    <tr>\n",
       "      <th>Volunteering</th>\n",
       "      <td>0</td>\n",
       "      <td>0.00000</td>\n",
       "    </tr>\n",
       "    <tr>\n",
       "      <th>Mechanic</th>\n",
       "      <td>0</td>\n",
       "      <td>0.00000</td>\n",
       "    </tr>\n",
       "    <tr>\n",
       "      <th>Gardening</th>\n",
       "      <td>0</td>\n",
       "      <td>0.00000</td>\n",
       "    </tr>\n",
       "    <tr>\n",
       "      <th>Knitting</th>\n",
       "      <td>0</td>\n",
       "      <td>0.00000</td>\n",
       "    </tr>\n",
       "    <tr>\n",
       "      <th>Cooking</th>\n",
       "      <td>0</td>\n",
       "      <td>0.00000</td>\n",
       "    </tr>\n",
       "    <tr>\n",
       "      <th>Fishing</th>\n",
       "      <td>0</td>\n",
       "      <td>0.00000</td>\n",
       "    </tr>\n",
       "    <tr>\n",
       "      <th>TV</th>\n",
       "      <td>0</td>\n",
       "      <td>0.00000</td>\n",
       "    </tr>\n",
       "    <tr>\n",
       "      <th>Sex</th>\n",
       "      <td>0</td>\n",
       "      <td>0.00000</td>\n",
       "    </tr>\n",
       "    <tr>\n",
       "      <th>Age</th>\n",
       "      <td>0</td>\n",
       "      <td>0.00000</td>\n",
       "    </tr>\n",
       "    <tr>\n",
       "      <th>Marital status</th>\n",
       "      <td>0</td>\n",
       "      <td>0.00000</td>\n",
       "    </tr>\n",
       "    <tr>\n",
       "      <th>Profession</th>\n",
       "      <td>1498</td>\n",
       "      <td>0.17827</td>\n",
       "    </tr>\n",
       "  </tbody>\n",
       "</table>\n",
       "</div>"
      ],
      "text/plain": [
       "                 Num NaN  Prop NaN\n",
       "Reading                0   0.00000\n",
       "Listening music        0   0.00000\n",
       "Cinema                 0   0.00000\n",
       "Show                   0   0.00000\n",
       "Exhibition             0   0.00000\n",
       "Computer               0   0.00000\n",
       "Sport                  0   0.00000\n",
       "Walking                0   0.00000\n",
       "Travelling             0   0.00000\n",
       "Playing music          0   0.00000\n",
       "Collecting             0   0.00000\n",
       "Volunteering           0   0.00000\n",
       "Mechanic               0   0.00000\n",
       "Gardening              0   0.00000\n",
       "Knitting               0   0.00000\n",
       "Cooking                0   0.00000\n",
       "Fishing                0   0.00000\n",
       "TV                     0   0.00000\n",
       "Sex                    0   0.00000\n",
       "Age                    0   0.00000\n",
       "Marital status         0   0.00000\n",
       "Profession          1498   0.17827"
      ]
     },
     "execution_count": 86,
     "metadata": {},
     "output_type": "execute_result"
    }
   ],
   "source": [
    "num_na_columns #número y proporción de NA's por variable"
   ]
  },
  {
   "cell_type": "markdown",
   "metadata": {},
   "source": [
    "Vemos que *Profession* tiene 1498 NA's: los imputamos con la categoría *\"No Info\"*"
   ]
  },
  {
   "cell_type": "code",
   "execution_count": 87,
   "metadata": {},
   "outputs": [],
   "source": [
    "df_categ['Profession'] = df_categ['Profession'].fillna('No Info')"
   ]
  },
  {
   "cell_type": "code",
   "execution_count": 88,
   "metadata": {},
   "outputs": [
    {
     "data": {
      "text/html": [
       "<div>\n",
       "<style scoped>\n",
       "    .dataframe tbody tr th:only-of-type {\n",
       "        vertical-align: middle;\n",
       "    }\n",
       "\n",
       "    .dataframe tbody tr th {\n",
       "        vertical-align: top;\n",
       "    }\n",
       "\n",
       "    .dataframe thead th {\n",
       "        text-align: right;\n",
       "    }\n",
       "</style>\n",
       "<table border=\"1\" class=\"dataframe\">\n",
       "  <thead>\n",
       "    <tr style=\"text-align: right;\">\n",
       "      <th></th>\n",
       "      <th>Reading</th>\n",
       "      <th>Listening music</th>\n",
       "      <th>Cinema</th>\n",
       "      <th>Show</th>\n",
       "      <th>Exhibition</th>\n",
       "      <th>Computer</th>\n",
       "      <th>Sport</th>\n",
       "      <th>Walking</th>\n",
       "      <th>Travelling</th>\n",
       "      <th>Playing music</th>\n",
       "      <th>...</th>\n",
       "      <th>Mechanic</th>\n",
       "      <th>Gardening</th>\n",
       "      <th>Knitting</th>\n",
       "      <th>Cooking</th>\n",
       "      <th>Fishing</th>\n",
       "      <th>TV</th>\n",
       "      <th>Sex</th>\n",
       "      <th>Age</th>\n",
       "      <th>Marital status</th>\n",
       "      <th>Profession</th>\n",
       "    </tr>\n",
       "  </thead>\n",
       "  <tbody>\n",
       "    <tr>\n",
       "      <th>count</th>\n",
       "      <td>8403</td>\n",
       "      <td>8403</td>\n",
       "      <td>8403</td>\n",
       "      <td>8403</td>\n",
       "      <td>8403</td>\n",
       "      <td>8403</td>\n",
       "      <td>8403</td>\n",
       "      <td>8403</td>\n",
       "      <td>8403</td>\n",
       "      <td>8403</td>\n",
       "      <td>...</td>\n",
       "      <td>8403</td>\n",
       "      <td>8403</td>\n",
       "      <td>8403</td>\n",
       "      <td>8403</td>\n",
       "      <td>8403</td>\n",
       "      <td>8403</td>\n",
       "      <td>8403</td>\n",
       "      <td>8403</td>\n",
       "      <td>8403</td>\n",
       "      <td>8403</td>\n",
       "    </tr>\n",
       "    <tr>\n",
       "      <th>unique</th>\n",
       "      <td>2</td>\n",
       "      <td>2</td>\n",
       "      <td>2</td>\n",
       "      <td>2</td>\n",
       "      <td>2</td>\n",
       "      <td>2</td>\n",
       "      <td>2</td>\n",
       "      <td>2</td>\n",
       "      <td>2</td>\n",
       "      <td>2</td>\n",
       "      <td>...</td>\n",
       "      <td>2</td>\n",
       "      <td>2</td>\n",
       "      <td>2</td>\n",
       "      <td>2</td>\n",
       "      <td>2</td>\n",
       "      <td>5</td>\n",
       "      <td>2</td>\n",
       "      <td>8</td>\n",
       "      <td>5</td>\n",
       "      <td>8</td>\n",
       "    </tr>\n",
       "    <tr>\n",
       "      <th>top</th>\n",
       "      <td>1</td>\n",
       "      <td>1</td>\n",
       "      <td>0</td>\n",
       "      <td>0</td>\n",
       "      <td>0</td>\n",
       "      <td>0</td>\n",
       "      <td>0</td>\n",
       "      <td>0</td>\n",
       "      <td>0</td>\n",
       "      <td>0</td>\n",
       "      <td>...</td>\n",
       "      <td>0</td>\n",
       "      <td>0</td>\n",
       "      <td>0</td>\n",
       "      <td>0</td>\n",
       "      <td>0</td>\n",
       "      <td>4</td>\n",
       "      <td>F</td>\n",
       "      <td>(45,55]</td>\n",
       "      <td>Married</td>\n",
       "      <td>Employee</td>\n",
       "    </tr>\n",
       "    <tr>\n",
       "      <th>freq</th>\n",
       "      <td>5646</td>\n",
       "      <td>5947</td>\n",
       "      <td>5044</td>\n",
       "      <td>5978</td>\n",
       "      <td>5808</td>\n",
       "      <td>5245</td>\n",
       "      <td>5308</td>\n",
       "      <td>4228</td>\n",
       "      <td>5040</td>\n",
       "      <td>6943</td>\n",
       "      <td>...</td>\n",
       "      <td>4864</td>\n",
       "      <td>5047</td>\n",
       "      <td>6990</td>\n",
       "      <td>4717</td>\n",
       "      <td>7458</td>\n",
       "      <td>2232</td>\n",
       "      <td>4616</td>\n",
       "      <td>1837</td>\n",
       "      <td>4333</td>\n",
       "      <td>2552</td>\n",
       "    </tr>\n",
       "  </tbody>\n",
       "</table>\n",
       "<p>4 rows × 22 columns</p>\n",
       "</div>"
      ],
      "text/plain": [
       "        Reading  Listening music  Cinema  Show  Exhibition  Computer  Sport  \\\n",
       "count      8403             8403    8403  8403        8403      8403   8403   \n",
       "unique        2                2       2     2           2         2      2   \n",
       "top           1                1       0     0           0         0      0   \n",
       "freq       5646             5947    5044  5978        5808      5245   5308   \n",
       "\n",
       "        Walking  Travelling  Playing music  ...  Mechanic  Gardening  \\\n",
       "count      8403        8403           8403  ...      8403       8403   \n",
       "unique        2           2              2  ...         2          2   \n",
       "top           0           0              0  ...         0          0   \n",
       "freq       4228        5040           6943  ...      4864       5047   \n",
       "\n",
       "        Knitting  Cooking  Fishing    TV   Sex      Age Marital status  \\\n",
       "count       8403     8403     8403  8403  8403     8403           8403   \n",
       "unique         2        2        2     5     2        8              5   \n",
       "top            0        0        0     4     F  (45,55]        Married   \n",
       "freq        6990     4717     7458  2232  4616     1837           4333   \n",
       "\n",
       "       Profession  \n",
       "count        8403  \n",
       "unique          8  \n",
       "top      Employee  \n",
       "freq         2552  \n",
       "\n",
       "[4 rows x 22 columns]"
      ]
     },
     "execution_count": 88,
     "metadata": {},
     "output_type": "execute_result"
    }
   ],
   "source": [
    "df_categ.describe()"
   ]
  },
  {
   "cell_type": "markdown",
   "metadata": {},
   "source": [
    "### 3. Codificar categóricas"
   ]
  },
  {
   "cell_type": "markdown",
   "metadata": {},
   "source": [
    "Convertimos todas las variables a índices para su introducción en el clustering"
   ]
  },
  {
   "cell_type": "code",
   "execution_count": 93,
   "metadata": {},
   "outputs": [],
   "source": [
    "label_enc = LabelEncoder()\n",
    "df_recode = df_categ.apply(label_enc.fit_transform)"
   ]
  },
  {
   "cell_type": "markdown",
   "metadata": {},
   "source": [
    "Miramos con qué categoría se corresponden los labels asignados:"
   ]
  },
  {
   "cell_type": "markdown",
   "metadata": {},
   "source": [
    "- Sexo 0 female; sexo 1 male\n",
    "- Age 0 (25,35]; age 1 (35,45]; age 2 (45,55]; age 3 (55,65]; age 4 (65,75]; age 5 (75,85]; age 6 (85,100]; age 7 [15,25]\n",
    "- Marital status: 0 Divorcee; 1 married; 2 remarried; 3 Single, 4 Widower\n",
    "- Profession: 0 Employee; 1 Foreman; 2 Management; 3 Manual labourer; 4 No Info; 5 Other; 6 Technician; 7 Unskilled worker"
   ]
  },
  {
   "cell_type": "markdown",
   "metadata": {},
   "source": [
    "# Clustering k-modes"
   ]
  },
  {
   "cell_type": "markdown",
   "metadata": {},
   "source": [
    "## Elección número de clusters"
   ]
  },
  {
   "cell_type": "markdown",
   "metadata": {},
   "source": [
    "Comparamos el coste para cada posible número de clusters "
   ]
  },
  {
   "cell_type": "code",
   "execution_count": 104,
   "metadata": {},
   "outputs": [
    {
     "name": "stdout",
     "output_type": "stream",
     "text": [
      "Init: initializing centroids\n",
      "Init: initializing clusters\n",
      "Starting iterations...\n",
      "Run 1, iteration: 1/100, moves: 0, cost: 70374.0\n",
      "Init: initializing centroids\n",
      "Init: initializing clusters\n",
      "Starting iterations...\n",
      "Run 1, iteration: 1/100, moves: 1774, cost: 63488.0\n",
      "Run 1, iteration: 2/100, moves: 1701, cost: 61832.0\n",
      "Run 1, iteration: 3/100, moves: 1435, cost: 59690.0\n",
      "Run 1, iteration: 4/100, moves: 674, cost: 59458.0\n",
      "Run 1, iteration: 5/100, moves: 42, cost: 59458.0\n",
      "Init: initializing centroids\n",
      "Init: initializing clusters\n",
      "Starting iterations...\n",
      "Run 1, iteration: 1/100, moves: 3000, cost: 57934.0\n",
      "Run 1, iteration: 2/100, moves: 406, cost: 57934.0\n",
      "Init: initializing centroids\n",
      "Init: initializing clusters\n",
      "Starting iterations...\n",
      "Run 1, iteration: 1/100, moves: 2516, cost: 54181.0\n",
      "Run 1, iteration: 2/100, moves: 905, cost: 53761.0\n",
      "Run 1, iteration: 3/100, moves: 581, cost: 53761.0\n"
     ]
    }
   ],
   "source": [
    "cost = []\n",
    "\n",
    "for num_clusters in list(range(1,5)):\n",
    "    \n",
    "    kmode = KModes(n_clusters=num_clusters, init = \"Huang\", n_init = 1, verbose=1)\n",
    "    kmode.fit_predict(df_recode)\n",
    "    cost.append(kmode.cost_)"
   ]
  },
  {
   "cell_type": "code",
   "execution_count": 105,
   "metadata": {},
   "outputs": [
    {
     "data": {
      "text/plain": [
       "[<matplotlib.lines.Line2D at 0x120caa710>]"
      ]
     },
     "execution_count": 105,
     "metadata": {},
     "output_type": "execute_result"
    },
    {
     "data": {
      "image/png": "[encoded data removed]",
      "text/plain": [
       "<Figure size 432x288 with 1 Axes>"
      ]
     },
     "metadata": {
      "needs_background": "light"
     },
     "output_type": "display_data"
    }
   ],
   "source": [
    "y = np.array([i for i in range(1,5,1)])\n",
    "plt.plot(y,cost)"
   ]
  },
  {
   "cell_type": "markdown",
   "metadata": {},
   "source": [
    "Viendo el gráfico nos quedaríamos con 2 o 3 clusters"
   ]
  },
  {
   "cell_type": "markdown",
   "metadata": {},
   "source": [
    "## Aplicación clustering"
   ]
  },
  {
   "cell_type": "code",
   "execution_count": 107,
   "metadata": {},
   "outputs": [
    {
     "name": "stdout",
     "output_type": "stream",
     "text": [
      "Init: initializing centroids\n",
      "Init: initializing clusters\n",
      "Starting iterations...\n",
      "Run 1, iteration: 1/100, moves: 1534, cost: 64234.0\n"
     ]
    }
   ],
   "source": [
    "km_huang = KModes(n_clusters=2, init = \"Huang\", n_init = 1, verbose=1) \n",
    "\n",
    "'''\n",
    "- n_clusters: number of cluster chosen\n",
    "- init: initialization method (Huang, Cao...)\n",
    "- n_init:number of initial clusters to try in an attempt to find the lowest local minimum for the cost function\n",
    "'''\n",
    "\n",
    "fit_huang = km_huang.fit_predict(df_recode)"
   ]
  },
  {
   "cell_type": "markdown",
   "metadata": {},
   "source": [
    "**Características de los clusters**"
   ]
  },
  {
   "cell_type": "code",
   "execution_count": 110,
   "metadata": {},
   "outputs": [
    {
     "data": {
      "text/html": [
       "<div>\n",
       "<style scoped>\n",
       "    .dataframe tbody tr th:only-of-type {\n",
       "        vertical-align: middle;\n",
       "    }\n",
       "\n",
       "    .dataframe tbody tr th {\n",
       "        vertical-align: top;\n",
       "    }\n",
       "\n",
       "    .dataframe thead th {\n",
       "        text-align: right;\n",
       "    }\n",
       "</style>\n",
       "<table border=\"1\" class=\"dataframe\">\n",
       "  <thead>\n",
       "    <tr style=\"text-align: right;\">\n",
       "      <th></th>\n",
       "      <th>Reading</th>\n",
       "      <th>Listening music</th>\n",
       "      <th>Cinema</th>\n",
       "      <th>Show</th>\n",
       "      <th>Exhibition</th>\n",
       "      <th>Computer</th>\n",
       "      <th>Sport</th>\n",
       "      <th>Walking</th>\n",
       "      <th>Travelling</th>\n",
       "      <th>Playing music</th>\n",
       "      <th>Collecting</th>\n",
       "      <th>Volunteering</th>\n",
       "      <th>Mechanic</th>\n",
       "      <th>Gardening</th>\n",
       "      <th>Knitting</th>\n",
       "      <th>Cooking</th>\n",
       "      <th>Fishing</th>\n",
       "      <th>TV</th>\n",
       "      <th>Sex</th>\n",
       "      <th>Age</th>\n",
       "      <th>Marital status</th>\n",
       "      <th>Profession</th>\n",
       "    </tr>\n",
       "  </thead>\n",
       "  <tbody>\n",
       "    <tr>\n",
       "      <th>0</th>\n",
       "      <td>1</td>\n",
       "      <td>1</td>\n",
       "      <td>0</td>\n",
       "      <td>0</td>\n",
       "      <td>0</td>\n",
       "      <td>0</td>\n",
       "      <td>0</td>\n",
       "      <td>1</td>\n",
       "      <td>0</td>\n",
       "      <td>0</td>\n",
       "      <td>0</td>\n",
       "      <td>0</td>\n",
       "      <td>0</td>\n",
       "      <td>1</td>\n",
       "      <td>0</td>\n",
       "      <td>1</td>\n",
       "      <td>0</td>\n",
       "      <td>4</td>\n",
       "      <td>0</td>\n",
       "      <td>2</td>\n",
       "      <td>1</td>\n",
       "      <td>0</td>\n",
       "    </tr>\n",
       "    <tr>\n",
       "      <th>1</th>\n",
       "      <td>1</td>\n",
       "      <td>1</td>\n",
       "      <td>1</td>\n",
       "      <td>0</td>\n",
       "      <td>0</td>\n",
       "      <td>1</td>\n",
       "      <td>1</td>\n",
       "      <td>0</td>\n",
       "      <td>0</td>\n",
       "      <td>0</td>\n",
       "      <td>0</td>\n",
       "      <td>0</td>\n",
       "      <td>0</td>\n",
       "      <td>0</td>\n",
       "      <td>0</td>\n",
       "      <td>0</td>\n",
       "      <td>0</td>\n",
       "      <td>2</td>\n",
       "      <td>1</td>\n",
       "      <td>1</td>\n",
       "      <td>1</td>\n",
       "      <td>4</td>\n",
       "    </tr>\n",
       "  </tbody>\n",
       "</table>\n",
       "</div>"
      ],
      "text/plain": [
       "   Reading  Listening music  Cinema  Show  Exhibition  Computer  Sport  \\\n",
       "0        1                1       0     0           0         0      0   \n",
       "1        1                1       1     0           0         1      1   \n",
       "\n",
       "   Walking  Travelling  Playing music  Collecting  Volunteering  Mechanic  \\\n",
       "0        1           0              0           0             0         0   \n",
       "1        0           0              0           0             0         0   \n",
       "\n",
       "   Gardening  Knitting  Cooking  Fishing  TV  Sex  Age  Marital status  \\\n",
       "0          1         0        1        0   4    0    2               1   \n",
       "1          0         0        0        0   2    1    1               1   \n",
       "\n",
       "   Profession  \n",
       "0           0  \n",
       "1           4  "
      ]
     },
     "execution_count": 110,
     "metadata": {},
     "output_type": "execute_result"
    }
   ],
   "source": [
    "km_huang_centroids = pd.DataFrame(km_huang.cluster_centroids_) #moda de cada cluster\n",
    "km_huang_centroids.columns = df_recode.columns\n",
    "km_huang_centroids"
   ]
  },
  {
   "cell_type": "markdown",
   "metadata": {},
   "source": [
    "Esta empresa tiene 2 segmentos de clientes principales:\n",
    "\n",
    "- Segmento 1: Mujer entre 45 y 55 años, casada y con empleo. Aficiones: leer, escuchar música, caminar, jardinería, cocinar\n",
    "- Segmento 2: Hombre entre 35 y 45 años, casado, no da información sobre qué profesión tiene. Aficiones: leer, escuchar música, el cine, los ordenadores, el deporte"
   ]
  },
  {
   "cell_type": "code",
   "execution_count": null,
   "metadata": {},
   "outputs": [],
   "source": []
  }
 ],
 "metadata": {
  "kernelspec": {
   "display_name": "Python 3",
   "language": "python",
   "name": "python3"
  },
  "language_info": {
   "codemirror_mode": {
    "name": "ipython",
    "version": 3
   },
   "file_extension": ".py",
   "mimetype": "text/x-python",
   "name": "python",
   "nbconvert_exporter": "python",
   "pygments_lexer": "ipython3",
   "version": "3.7.3"
  }
 },
 "nbformat": 4,
 "nbformat_minor": 2
}
