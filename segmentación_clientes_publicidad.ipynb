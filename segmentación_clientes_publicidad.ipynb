{
 "cells": [
  {
   "cell_type": "markdown",
   "metadata": {},
   "source": [
    "# Segmentación de público objetivo: clustering"
   ]
  },
  {
   "cell_type": "markdown",
   "metadata": {},
   "source": [
    "Para ayudar a las startups a elegir dónde colocar su publicidad, realizaremos una segmentación de su público objetivo.\n",
    "\n",
    "Supongamos que tenemos datos sobre los clientes que han manifestado interés en cierta startup (obtenidos de una encuesta, por ejemplo). Se trata de definir varios segmentos (clusters) para ayudar a dicha startup a decidir hacia qué grupos de clientes enfocar su publicidad."
   ]
  },
  {
   "cell_type": "markdown",
   "metadata": {},
   "source": [
    "## Importación de librerías"
   ]
  },
  {
   "cell_type": "code",
   "execution_count": 5,
   "metadata": {},
   "outputs": [],
   "source": [
    "import os\n",
    "import pandas as pd"
   ]
  },
  {
   "cell_type": "markdown",
   "metadata": {},
   "source": [
    "## Importación de datos"
   ]
  },
  {
   "cell_type": "markdown",
   "metadata": {},
   "source": [
    "Utilizaremos el dataset *hobbies* encontrado en la librería de R *FactoMineR*. Este dataset contiene intereses y características demográficas (edad, profesión, género)."
   ]
  },
  {
   "cell_type": "code",
   "execution_count": 3,
   "metadata": {},
   "outputs": [],
   "source": [
    "current_path = os.getcwd() #obtener la ruta donde se guarda este cuaderno\n",
    "dataset_path =current_path+'/clients_profile.csv' #obtener la ruta donde se guarda el conjunto de datos de los clientes"
   ]
  },
  {
   "cell_type": "code",
   "execution_count": 6,
   "metadata": {},
   "outputs": [],
   "source": [
    "clients_df=pd.read_csv(dataset_path, na_values=['none','None'])"
   ]
  },
  {
   "cell_type": "code",
   "execution_count": 7,
   "metadata": {},
   "outputs": [
    {
     "data": {
      "text/html": [
       "<div>\n",
       "<style scoped>\n",
       "    .dataframe tbody tr th:only-of-type {\n",
       "        vertical-align: middle;\n",
       "    }\n",
       "\n",
       "    .dataframe tbody tr th {\n",
       "        vertical-align: top;\n",
       "    }\n",
       "\n",
       "    .dataframe thead th {\n",
       "        text-align: right;\n",
       "    }\n",
       "</style>\n",
       "<table border=\"1\" class=\"dataframe\">\n",
       "  <thead>\n",
       "    <tr style=\"text-align: right;\">\n",
       "      <th></th>\n",
       "      <th>Unnamed: 0</th>\n",
       "      <th>Reading</th>\n",
       "      <th>Listening music</th>\n",
       "      <th>Cinema</th>\n",
       "      <th>Show</th>\n",
       "      <th>Exhibition</th>\n",
       "      <th>Computer</th>\n",
       "      <th>Sport</th>\n",
       "      <th>Walking</th>\n",
       "      <th>Travelling</th>\n",
       "      <th>...</th>\n",
       "      <th>Gardening</th>\n",
       "      <th>Knitting</th>\n",
       "      <th>Cooking</th>\n",
       "      <th>Fishing</th>\n",
       "      <th>TV</th>\n",
       "      <th>Sex</th>\n",
       "      <th>Age</th>\n",
       "      <th>Marital status</th>\n",
       "      <th>Profession</th>\n",
       "      <th>nb.activitees</th>\n",
       "    </tr>\n",
       "  </thead>\n",
       "  <tbody>\n",
       "    <tr>\n",
       "      <th>0</th>\n",
       "      <td>11000210</td>\n",
       "      <td>1</td>\n",
       "      <td>1</td>\n",
       "      <td>1</td>\n",
       "      <td>1</td>\n",
       "      <td>1</td>\n",
       "      <td>0</td>\n",
       "      <td>1</td>\n",
       "      <td>1</td>\n",
       "      <td>1</td>\n",
       "      <td>...</td>\n",
       "      <td>0</td>\n",
       "      <td>0</td>\n",
       "      <td>0</td>\n",
       "      <td>0</td>\n",
       "      <td>2</td>\n",
       "      <td>F</td>\n",
       "      <td>(55,65]</td>\n",
       "      <td>Married</td>\n",
       "      <td>Management</td>\n",
       "      <td>11</td>\n",
       "    </tr>\n",
       "    <tr>\n",
       "      <th>1</th>\n",
       "      <td>11000410</td>\n",
       "      <td>1</td>\n",
       "      <td>0</td>\n",
       "      <td>0</td>\n",
       "      <td>0</td>\n",
       "      <td>1</td>\n",
       "      <td>0</td>\n",
       "      <td>1</td>\n",
       "      <td>1</td>\n",
       "      <td>0</td>\n",
       "      <td>...</td>\n",
       "      <td>1</td>\n",
       "      <td>0</td>\n",
       "      <td>0</td>\n",
       "      <td>0</td>\n",
       "      <td>4</td>\n",
       "      <td>M</td>\n",
       "      <td>(45,55]</td>\n",
       "      <td>Married</td>\n",
       "      <td>NaN</td>\n",
       "      <td>9</td>\n",
       "    </tr>\n",
       "    <tr>\n",
       "      <th>2</th>\n",
       "      <td>11000610</td>\n",
       "      <td>1</td>\n",
       "      <td>1</td>\n",
       "      <td>0</td>\n",
       "      <td>0</td>\n",
       "      <td>1</td>\n",
       "      <td>0</td>\n",
       "      <td>0</td>\n",
       "      <td>0</td>\n",
       "      <td>1</td>\n",
       "      <td>...</td>\n",
       "      <td>0</td>\n",
       "      <td>0</td>\n",
       "      <td>0</td>\n",
       "      <td>0</td>\n",
       "      <td>4</td>\n",
       "      <td>F</td>\n",
       "      <td>(25,35]</td>\n",
       "      <td>Remarried</td>\n",
       "      <td>Management</td>\n",
       "      <td>5</td>\n",
       "    </tr>\n",
       "    <tr>\n",
       "      <th>3</th>\n",
       "      <td>11000710</td>\n",
       "      <td>1</td>\n",
       "      <td>0</td>\n",
       "      <td>0</td>\n",
       "      <td>0</td>\n",
       "      <td>1</td>\n",
       "      <td>0</td>\n",
       "      <td>1</td>\n",
       "      <td>0</td>\n",
       "      <td>1</td>\n",
       "      <td>...</td>\n",
       "      <td>0</td>\n",
       "      <td>0</td>\n",
       "      <td>0</td>\n",
       "      <td>0</td>\n",
       "      <td>1</td>\n",
       "      <td>M</td>\n",
       "      <td>(75,85]</td>\n",
       "      <td>Married</td>\n",
       "      <td>NaN</td>\n",
       "      <td>5</td>\n",
       "    </tr>\n",
       "    <tr>\n",
       "      <th>4</th>\n",
       "      <td>11000810</td>\n",
       "      <td>1</td>\n",
       "      <td>1</td>\n",
       "      <td>1</td>\n",
       "      <td>1</td>\n",
       "      <td>0</td>\n",
       "      <td>0</td>\n",
       "      <td>0</td>\n",
       "      <td>1</td>\n",
       "      <td>0</td>\n",
       "      <td>...</td>\n",
       "      <td>0</td>\n",
       "      <td>0</td>\n",
       "      <td>0</td>\n",
       "      <td>0</td>\n",
       "      <td>3</td>\n",
       "      <td>M</td>\n",
       "      <td>(55,65]</td>\n",
       "      <td>Married</td>\n",
       "      <td>Employee</td>\n",
       "      <td>6</td>\n",
       "    </tr>\n",
       "  </tbody>\n",
       "</table>\n",
       "<p>5 rows × 24 columns</p>\n",
       "</div>"
      ],
      "text/plain": [
       "   Unnamed: 0  Reading  Listening music  Cinema  Show  Exhibition  Computer  \\\n",
       "0    11000210        1                1       1     1           1         0   \n",
       "1    11000410        1                0       0     0           1         0   \n",
       "2    11000610        1                1       0     0           1         0   \n",
       "3    11000710        1                0       0     0           1         0   \n",
       "4    11000810        1                1       1     1           0         0   \n",
       "\n",
       "   Sport  Walking  Travelling  ...  Gardening  Knitting  Cooking  Fishing  TV  \\\n",
       "0      1        1           1  ...          0         0        0        0   2   \n",
       "1      1        1           0  ...          1         0        0        0   4   \n",
       "2      0        0           1  ...          0         0        0        0   4   \n",
       "3      1        0           1  ...          0         0        0        0   1   \n",
       "4      0        1           0  ...          0         0        0        0   3   \n",
       "\n",
       "   Sex      Age  Marital status  Profession nb.activitees  \n",
       "0    F  (55,65]         Married  Management            11  \n",
       "1    M  (45,55]         Married         NaN             9  \n",
       "2    F  (25,35]       Remarried  Management             5  \n",
       "3    M  (75,85]         Married         NaN             5  \n",
       "4    M  (55,65]         Married    Employee             6  \n",
       "\n",
       "[5 rows x 24 columns]"
      ]
     },
     "execution_count": 7,
     "metadata": {},
     "output_type": "execute_result"
    }
   ],
   "source": [
    "clients_df.head()"
   ]
  },
  {
   "cell_type": "markdown",
   "metadata": {},
   "source": []
  }
 ],
 "metadata": {
  "kernelspec": {
   "display_name": "Python 3",
   "language": "python",
   "name": "python3"
  },
  "language_info": {
   "codemirror_mode": {
    "name": "ipython",
    "version": 3
   },
   "file_extension": ".py",
   "mimetype": "text/x-python",
   "name": "python",
   "nbconvert_exporter": "python",
   "pygments_lexer": "ipython3",
   "version": "3.7.3"
  }
 },
 "nbformat": 4,
 "nbformat_minor": 2
}
