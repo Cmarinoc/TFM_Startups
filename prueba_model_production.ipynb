{
 "cells": [
  {
   "cell_type": "markdown",
   "metadata": {},
   "source": [
    "## API for production"
   ]
  },
  {
   "cell_type": "markdown",
   "metadata": {},
   "source": [
    "Prueba antes de crear los .py.\n",
    "\n",
    "Importo los datos, cojo solamente las variables del modelo final, les hago la depuración que necesitan, les aplico el modelo y guardo dicho modelo. Después, utilizamos ese modelo para sacar predicciones sobre una nueva observación que introduzcamos por fuera (se le aplicaría la depuración y se pasaría por el modelo. En la realidad, serviría para re-entrenar el mismo modelo con las nuevas observaciones que llegasen y para sacar predicciones automáticas.\n",
    "\n",
    "Después necesito pasar esto a .py"
   ]
  },
  {
   "cell_type": "code",
   "execution_count": 46,
   "metadata": {},
   "outputs": [],
   "source": [
    "import os\n",
    "import pandas as pd\n",
    "import numpy as np\n",
    "\n",
    "current_path = os.getcwd() #obtener la ruta donde se guarda este cuaderno\n",
    "dataset_path =current_path+'/startups_data.csv' #obtener la ruta donde se guarda el conjunto de datos de startups"
   ]
  },
  {
   "cell_type": "code",
   "execution_count": 36,
   "metadata": {},
   "outputs": [],
   "source": [
    "df=pd.read_csv(dataset_path, na_values=['none','None'])"
   ]
  },
  {
   "cell_type": "code",
   "execution_count": 37,
   "metadata": {},
   "outputs": [],
   "source": [
    "#Renombrado de columnas\n",
    "\n",
    "df.rename(columns={'Company_Name':'company_name',\n",
    "                                       'Dependent-Company Status': 'status',\n",
    "                                       'year of founding': 'fundation_year',\n",
    "                                       'Age of company in years': 'age_years',\n",
    "                                       'Internet Activity Score': 'internet_score',\n",
    "                                       'Industry of company': 'industry',\n",
    "                                       'Focus functions of company': 'focus_functions',\n",
    "                                       'Investors': 'investors',\n",
    "                                       'Employee Count':'count_employee',\n",
    "                                       'Employees count MoM change': 'count_employee_MoM_change',\n",
    "                                       'Has the team size grown': 'has_team_size_grown',\n",
    "                                       'Est. Founding Date':'est_funding_date',\n",
    "                                       'Last Funding Date': 'last_funding_date',\n",
    "                                       'Last Funding Amount':'last_funding_amount',\n",
    "                                       'Country of company':'country',\n",
    "                                       'Continent of company':'continent',\n",
    "                                       'Number of Investors in Seed':'number_investors_seed',\n",
    "                                        'Number of Investors in Angel and or VC': 'number_investors_angel_VC',\n",
    "                                        'Number of Co-founders':'number_cofounders',\n",
    "                                        'Number of of advisors':'number_advisors',\n",
    "                                        'Team size Senior leadership':'team_size_senior_lead',\n",
    "                                        'Team size all employees':'team_size_all_employees',\n",
    "                                        'Presence of a top angel or venture fund in previous round of investment':'presence_angel_venture_fund',\n",
    "                                        'Number of of repeat investors':'number_repeat_investors',\n",
    "                                        'Number of  Sales Support material':'number_sales_support_material',\n",
    "                                        'Worked in top companies':'worked_top_company',\n",
    "                                        'Average size of companies worked for in the past':'avg_size_companies_worked_for_past',\n",
    "                                        'Have been part of startups in the past?':'part_of_startups_past',\n",
    "                                        'Have been part of successful startups in the past?':'part_of_success_startups_past',\n",
    "                                        'Was he or she partner in Big 5 consulting?':'partner_big5_consulting',\n",
    "                                        'Consulting experience?':'consulting_experience',\n",
    "                                        'Product or service company?':'product_or_service_company',\n",
    "                                        'Catering to product/service across verticals':'catering_product_service_across_verticals',\n",
    "                                        'Focus on private or public data?' :'focus_private_or_public_data',\n",
    "                                        'Focus on consumer data?':'focus_consumer_data',\n",
    "                                        'Focus on structured or unstructured data' :'focus_structured_unstructured_data',\n",
    "                                        'Subscription based business':'subscription_based',\n",
    "                                        'Cloud or platform based serive/product?' :'cloud_or_platform_based',\n",
    "                                        'Local or global player':'local_or_global_player',\n",
    "                                        'Linear or Non-linear business model':'linear_nonlinear_business',\n",
    "                                        'Capital intensive business e.g. e-commerce, Engineering products and operations can also cause a business to be capital intensive':'capital_intensive',\n",
    "                                        'Number of  of Partners of company' :'number_partners',\n",
    "                                        'Crowdsourcing based business':'crowdsourcing_business',\n",
    "                                        'Crowdfunding based business':'crowdfunding_business',\n",
    "                                        'Machine Learning based business':'ML_business',\n",
    "                                        'Predictive Analytics business':'predictive_analytics_business',\n",
    "                                        'Speech analytics business':'speech_analytics_business',\n",
    "                                        'Prescriptive analytics business' :'prescriptive_analytics_business',\n",
    "                                        'Big Data Business':'big_data_business',\n",
    "                                        'Cross-Channel Analytics/ marketing channels':'cross_channel_analytics_or_marketing',\n",
    "                                        'Owns data or not? (monetization of data) e.g. Factual':'owns_data',\n",
    "                                        'Is the company an aggregator/market place? e.g. Bluekai':'aggregator_or_market_place',\n",
    "                                        'Online or offline venture - physical location based business or online venture?':'online_or_offline_business',\n",
    "                                        'B2C or B2B venture?':'B2C_or_B2B',\n",
    "                                        \"Top forums like 'Tech crunch' or 'Venture beat' talking about the company/model - How much is it being talked about?\":'top_forums_talking_about_company',\n",
    "                                        'Average Years of experience for founder and co founder':'avg_years_experience for founder and co founder',\n",
    "                                        'Exposure across the globe':'exposure_across_globe',\n",
    "                                        'Breadth of experience across verticals':'breadth_experience_across_verticals',\n",
    "                                        'Highest education' :'highest_education',\n",
    "                                        'Years of education':'years_education',\n",
    "                                        'Specialization of highest education':'specialization_highest_education',\n",
    "                                        'Relevance of education to venture':'relevance_education_venture',\n",
    "                                        'Relevance of experience to venture':'relevance_experience_venture',\n",
    "                                        'Degree from a Tier 1 or Tier 2 university?':'degree_tier1_tier2_university',\n",
    "                                        'Renowned in professional circle':'renowned_professional_circle',\n",
    "                                        'Experience in selling and building products':'experience_selling_building_products',\n",
    "                                        'Experience in Fortune 100 organizations':'experience_fortune_100_organizations',\n",
    "                                        'Experience in Fortune 500 organizations':'experience_fortune_500_organizations',\n",
    "                                        'Experience in Fortune 1000 organizations' :'experience_fortune_1000_organizations',\n",
    "                                        'Top management similarity':'top_management_similarity',\n",
    "                                        'Number of Recognitions for Founders and Co-founders':'number_recognitions_for_founders_cofounders',\n",
    "                                        'Number of  of Research publications':'number_research_publications',\n",
    "                                        'Skills score':'skills_score',\n",
    "                                        'Team Composition score':'team_composition_score',\n",
    "                                        'Dificulty of Obtaining Work force':'difficulty_obtain_workforce',\n",
    "                                        'Pricing Strategy' :'pricing_strategy',\n",
    "                                        'Hyper localisation':'hyper_localisation',\n",
    "                                        'Time to market service or product':'time_market_service_product',\n",
    "                                        'Employee benefits and salary structures':'employee_benefits_salary_structures',\n",
    "                                        'Long term relationship with other founders':'long_term_relation_other_founders',\n",
    "                                        'Proprietary or patent position (competitive position)':'proprietary_patent_position',\n",
    "                                        'Barriers of entry for the competitors':'barriers_entry_competitors',\n",
    "                                        'Company awards':'company_awards',\n",
    "                                        'Controversial history of founder or co founder':'controversial_history_founder_cofounder',\n",
    "                                        'Legal risk and intellectual property' :'legal_risk_intell_property',\n",
    "                                        'Client Reputation':'client_reputation',\n",
    "                                        'google page rank of company website':'google_page_rank_company_web',\n",
    "                                        'Technical proficiencies to analyse and interpret unstructured data':'technical_skills_analyse_unstructured_data',\n",
    "                                        'Solutions offered' :'solutions_offered',\n",
    "                                        'Invested through global incubation competitions?':'invested_through_global_incubation_competitions',\n",
    "                                        'Industry trend in investing' :'industry_trend_investing',\n",
    "                                        'Disruptiveness of technology':'disruptiveness_technology',\n",
    "                                        'Number of Direct competitors' :'number_direct_competitors',\n",
    "                                        'Employees per year of company existence':'employees_per_year_existence',\n",
    "                                        'Last round of funding received (in milionUSD)':'last_round_fundind_millionUSD',\n",
    "                                        'Survival through recession, based on existence of the company through recession times':'survival_through_recession',\n",
    "                                        'Time to 1st investment (in months)':'months_to_1st_investment',\n",
    "                                        'Avg time to investment - average across all rounds, measured from previous investment':'avg_time_to_investment',\n",
    "                                        'Gartner hype cycle stage':'gartner_hype_cycle_stage',\n",
    "                                        'Time to maturity of technology (in years)':'time_maturity_technology',\n",
    "                                        'Percent_skill_Entrepreneurship' :'perc_skill_entrepreneur',\n",
    "                                        'Percent_skill_Operations':'perc_skill_operations',\n",
    "                                        'Percent_skill_Engineering':'perc_skill_engineering', \n",
    "                                        'Percent_skill_Marketing':'perc_skill_marketing',\n",
    "                                        'Percent_skill_Leadership' :'perc_skill_leadership',\n",
    "                                        'Percent_skill_Data Science':'perc_skill_datascience',\n",
    "                                        'Percent_skill_Business Strategy' :'perc_skill_business_strategy',\n",
    "                                        'Percent_skill_Product Management':'perc_skill_product_manag',\n",
    "                                        'Percent_skill_Sales' :'perc_skill_sales',\n",
    "                                        'Percent_skill_Domain' :'perc_skill_domain',\n",
    "                                        'Percent_skill_Law':'perc_skill_law',\n",
    "                                        'Percent_skill_Consulting' :'perc_skill_consulting',\n",
    "                                        'Percent_skill_Finance':'perc_skill_finance',\n",
    "                                        'Percent_skill_Investment':'perc_skill_investment',\n",
    "                                        'Renown score':'renown_score'\n",
    "                        },inplace=True) "
   ]
  },
  {
   "cell_type": "code",
   "execution_count": 47,
   "metadata": {},
   "outputs": [],
   "source": [
    "#Selección solo de columnas que entraban en el modelo final\n",
    "\n",
    "\n",
    "features_final_model=['relevance_experience_venture',\n",
    " 'relevance_education_venture',\n",
    " 'focus_structured_unstructured_data',\n",
    " 'local_or_global_player',\n",
    " 'big_data_business',\n",
    " 'top_management_similarity',\n",
    " 'renowned_professional_circle',\n",
    " 'degree_tier1_tier2_university',\n",
    " 'team_size_senior_lead',\n",
    " 'number_sales_support_material',\n",
    " 'B2C_or_B2B',\n",
    " 'catering_product_service_across_verticals',\n",
    " 'top_forums_talking_about_company',\n",
    " 'gartner_hype_cycle_stage',\n",
    " 'aggregator_or_market_place',\n",
    " 'focus_private_or_public_data',\n",
    " 'focus_functions',\n",
    " 'employee_benefits_salary_structures',\n",
    " 'specialization_highest_education',\n",
    " 'consulting_experience',\n",
    " 'number_cofounders',\n",
    " 'predictive_analytics_business',\n",
    " 'industry_trend_investing',\n",
    " 'barriers_entry_competitors']\n",
    "\n",
    "var_dep=['status']"
   ]
  },
  {
   "cell_type": "code",
   "execution_count": 48,
   "metadata": {},
   "outputs": [],
   "source": [
    "df_final=df[features_final_model+var_dep]"
   ]
  },
  {
   "cell_type": "code",
   "execution_count": 49,
   "metadata": {},
   "outputs": [],
   "source": [
    "#Depuración necesaria para esas columnas"
   ]
  },
  {
   "cell_type": "code",
   "execution_count": 52,
   "metadata": {},
   "outputs": [
    {
     "name": "stderr",
     "output_type": "stream",
     "text": [
      "//anaconda3/lib/python3.7/site-packages/ipykernel_launcher.py:4: SettingWithCopyWarning: \n",
      "A value is trying to be set on a copy of a slice from a DataFrame.\n",
      "Try using .loc[row_indexer,col_indexer] = value instead\n",
      "\n",
      "See the caveats in the documentation: https://pandas.pydata.org/pandas-docs/stable/user_guide/indexing.html#returning-a-view-versus-a-copy\n",
      "  after removing the cwd from sys.path.\n"
     ]
    }
   ],
   "source": [
    "#Reemplazar no info de las categóricas que lo necesiten\n",
    "\n",
    "\n",
    "df_final['renowned_professional_circle'] = df_final['renowned_professional_circle'].map(lambda item : np.nan if item == 'No Info' else item)\n",
    "\n"
   ]
  }
 ],
 "metadata": {
  "kernelspec": {
   "display_name": "Python 3",
   "language": "python",
   "name": "python3"
  },
  "language_info": {
   "codemirror_mode": {
    "name": "ipython",
    "version": 3
   },
   "file_extension": ".py",
   "mimetype": "text/x-python",
   "name": "python",
   "nbconvert_exporter": "python",
   "pygments_lexer": "ipython3",
   "version": "3.7.3"
  }
 },
 "nbformat": 4,
 "nbformat_minor": 2
}
