{
 "cells": [
  {
   "cell_type": "code",
   "execution_count": 68,
   "metadata": {},
   "outputs": [],
   "source": [
    "#Librerias\n",
    "import os\n",
    "import pandas as pd\n",
    "import numpy as np"
   ]
  },
  {
   "cell_type": "code",
   "execution_count": 69,
   "metadata": {},
   "outputs": [],
   "source": [
    "# carga de los datasets\n",
    "path=\"C://Users//Usuario//Desktop//TFM//\"\n",
    "os.chdir(path)\n",
    "\n",
    "freelances_dataset=pd.read_csv(\"freelances_final.csv\")\n",
    "companies_dataset=pd.read_csv(\"companies_final.csv\")"
   ]
  },
  {
   "cell_type": "code",
   "execution_count": 70,
   "metadata": {},
   "outputs": [
    {
     "name": "stdout",
     "output_type": "stream",
     "text": [
      "            company-freelance       score\n",
      "0               [Company1, 1]  144.239384\n",
      "1               [Company1, 2]   44.777226\n",
      "2               [Company1, 3]  146.982992\n",
      "3               [Company1, 4]  146.986394\n",
      "4               [Company1, 5]   44.766059\n",
      "...                       ...         ...\n",
      "24257019  [Company472, 51388]  190.808805\n",
      "24257020  [Company472, 51389]    2.645751\n",
      "24257021  [Company472, 51390]    2.828427\n",
      "24257022  [Company472, 51391]  163.731488\n",
      "24257023  [Company472, 51392]    2.645751\n",
      "\n",
      "[24257024 rows x 2 columns]\n"
     ]
    }
   ],
   "source": [
    "from scipy.spatial import distance\n",
    "\n",
    "#Reagrupando los datos para trabajar \n",
    "comp_names=companies_dataset.Company_Name.tolist()\n",
    "freelances_names=freelances_dataset.Respondent.tolist()\n",
    "\n",
    "companies=np.array(companies_dataset.drop([\"Company_Name\"], axis=1))\n",
    "freelances=np.array(freelances_dataset.drop([\"Respondent\"], axis=1))\n",
    "\n",
    "\n",
    "#Buscando todas las combinaciones posibles\n",
    "tuples = []\n",
    "#compania_t=companias.index.values\n",
    "lista=[]\n",
    "\n",
    "for c in range(len(companies)):\n",
    "    for f in range(len(freelances)):\n",
    "        comp_a=companies\n",
    "        free_b=freelances\n",
    "        dst=distance.euclidean(comp_a[c], free_b[f])\n",
    "        lista.append(dst)\n",
    "        tuples.append([comp_names[c],freelances_names[f]])\n",
    "\n",
    "df_match_euclidean=pd.DataFrame({'company-freelance' : tuples, 'score':lista})\n",
    "print(df_match_euclidean)\n"
   ]
  },
  {
   "cell_type": "code",
   "execution_count": 16,
   "metadata": {},
   "outputs": [],
   "source": [
    "#Lectura para el jaccard\n",
    "freelances_dummies=pd.read_excel(\"Freelancers_dummies.xlsx\")\n",
    "companies_dummies=pd.read_excel(\"Companies_dummies.xlsx\")"
   ]
  },
  {
   "cell_type": "code",
   "execution_count": 20,
   "metadata": {},
   "outputs": [
    {
     "name": "stdout",
     "output_type": "stream",
     "text": [
      "            company-freelance     score\n",
      "0               [Company1, 1]  0.527473\n",
      "1               [Company1, 2]  0.426036\n",
      "2               [Company1, 3]  0.576923\n",
      "3               [Company1, 4]  0.527473\n",
      "4               [Company1, 5]  0.466154\n",
      "...                       ...       ...\n",
      "24257019  [Company472, 51388]  0.403846\n",
      "24257020  [Company472, 51389]  0.590237\n",
      "24257021  [Company472, 51390]  0.559172\n",
      "24257022  [Company472, 51391]  0.403846\n",
      "24257023  [Company472, 51392]  0.590237\n",
      "\n",
      "[24257024 rows x 2 columns]\n"
     ]
    }
   ],
   "source": [
    "from sklearn.metrics import jaccard_score\n",
    "import numpy as np\n",
    "\n",
    "# Ejemplo\n",
    "comp_dummies=companies_dataset.Company_Name.tolist()\n",
    "freelances__dummies=freelances_dataset.Respondent.tolist()\n",
    "\n",
    "dummies_companies=np.array(companies_dataset.drop([\"Company_Name\"], axis=1))\n",
    "dummies_freelances=np.array(freelances_dataset.drop([\"Respondent\"], axis=1))\n",
    "\n",
    "\n",
    "\n",
    "#Buscando todas las combinaciones posibles\n",
    "tuples = []\n",
    "#compania_t=companias.index.values\n",
    "lista=[]\n",
    "\n",
    "for i in range(len(dummies_companies)):\n",
    "    for j in range(len(dummies_freelances)):\n",
    "        comp_x=dummies_companies\n",
    "        free_y=dummies_freelances\n",
    "        jaccard=jaccard_score(comp_x[i], free_y[j],average=\"weighted\")\n",
    "        lista.append(jaccard)\n",
    "        tuples.append([comp_dummies[i],freelances__dummies[j]])\n",
    "                      \n",
    "df_match=pd.DataFrame({'company-freelance' : tuples, 'score':lista})\n",
    "print(df_match)"
   ]
  },
  {
   "cell_type": "code",
   "execution_count": 55,
   "metadata": {},
   "outputs": [],
   "source": [
    "df_match.to_csv(\"jaccard_score.csv\",index=False)"
   ]
  },
  {
   "cell_type": "code",
   "execution_count": 56,
   "metadata": {},
   "outputs": [
    {
     "data": {
      "text/html": [
       "<div>\n",
       "<style scoped>\n",
       "    .dataframe tbody tr th:only-of-type {\n",
       "        vertical-align: middle;\n",
       "    }\n",
       "\n",
       "    .dataframe tbody tr th {\n",
       "        vertical-align: top;\n",
       "    }\n",
       "\n",
       "    .dataframe thead th {\n",
       "        text-align: right;\n",
       "    }\n",
       "</style>\n",
       "<table border=\"1\" class=\"dataframe\">\n",
       "  <thead>\n",
       "    <tr style=\"text-align: right;\">\n",
       "      <th></th>\n",
       "      <th>Company</th>\n",
       "      <th>Freelance</th>\n",
       "      <th>score</th>\n",
       "    </tr>\n",
       "  </thead>\n",
       "  <tbody>\n",
       "    <tr>\n",
       "      <th>0</th>\n",
       "      <td>Company1</td>\n",
       "      <td>1</td>\n",
       "      <td>0.527473</td>\n",
       "    </tr>\n",
       "    <tr>\n",
       "      <th>1</th>\n",
       "      <td>Company1</td>\n",
       "      <td>2</td>\n",
       "      <td>0.426036</td>\n",
       "    </tr>\n",
       "    <tr>\n",
       "      <th>2</th>\n",
       "      <td>Company1</td>\n",
       "      <td>3</td>\n",
       "      <td>0.576923</td>\n",
       "    </tr>\n",
       "    <tr>\n",
       "      <th>3</th>\n",
       "      <td>Company1</td>\n",
       "      <td>4</td>\n",
       "      <td>0.527473</td>\n",
       "    </tr>\n",
       "    <tr>\n",
       "      <th>4</th>\n",
       "      <td>Company1</td>\n",
       "      <td>5</td>\n",
       "      <td>0.466154</td>\n",
       "    </tr>\n",
       "    <tr>\n",
       "      <th>...</th>\n",
       "      <td>...</td>\n",
       "      <td>...</td>\n",
       "      <td>...</td>\n",
       "    </tr>\n",
       "    <tr>\n",
       "      <th>24257019</th>\n",
       "      <td>Company472</td>\n",
       "      <td>51388</td>\n",
       "      <td>0.403846</td>\n",
       "    </tr>\n",
       "    <tr>\n",
       "      <th>24257020</th>\n",
       "      <td>Company472</td>\n",
       "      <td>51389</td>\n",
       "      <td>0.590237</td>\n",
       "    </tr>\n",
       "    <tr>\n",
       "      <th>24257021</th>\n",
       "      <td>Company472</td>\n",
       "      <td>51390</td>\n",
       "      <td>0.559172</td>\n",
       "    </tr>\n",
       "    <tr>\n",
       "      <th>24257022</th>\n",
       "      <td>Company472</td>\n",
       "      <td>51391</td>\n",
       "      <td>0.403846</td>\n",
       "    </tr>\n",
       "    <tr>\n",
       "      <th>24257023</th>\n",
       "      <td>Company472</td>\n",
       "      <td>51392</td>\n",
       "      <td>0.590237</td>\n",
       "    </tr>\n",
       "  </tbody>\n",
       "</table>\n",
       "<p>24257024 rows × 3 columns</p>\n",
       "</div>"
      ],
      "text/plain": [
       "             Company  Freelance     score\n",
       "0           Company1          1  0.527473\n",
       "1           Company1          2  0.426036\n",
       "2           Company1          3  0.576923\n",
       "3           Company1          4  0.527473\n",
       "4           Company1          5  0.466154\n",
       "...              ...        ...       ...\n",
       "24257019  Company472      51388  0.403846\n",
       "24257020  Company472      51389  0.590237\n",
       "24257021  Company472      51390  0.559172\n",
       "24257022  Company472      51391  0.403846\n",
       "24257023  Company472      51392  0.590237\n",
       "\n",
       "[24257024 rows x 3 columns]"
      ]
     },
     "execution_count": 56,
     "metadata": {},
     "output_type": "execute_result"
    }
   ],
   "source": [
    "df_match[['Company', 'Freelance']]=pd.DataFrame(df_match['company-freelance'].tolist(), index=df_match.index) \n",
    "df_match.drop([\"company-freelance\"], axis=1)\n",
    "df_jaccard=df_match[[\"Company\",\"Freelance\",\"score\"]]\n",
    "df_jaccard"
   ]
  },
  {
   "cell_type": "code",
   "execution_count": 147,
   "metadata": {},
   "outputs": [],
   "source": [
    "c1=df_jaccard.groupby([\"Company\"]).get_group('Company1').sort_values('score', ascending=False).head(5)\n",
    "c2=df_jaccard.groupby([\"Company\"]).get_group('Company35').sort_values('score', ascending=False).head(5)\n",
    "c3=df_jaccard.groupby([\"Company\"]).get_group('Company50').sort_values('score', ascending=False).head(5)\n",
    "c4=df_jaccard.groupby([\"Company\"]).get_group('Company95').sort_values('score', ascending=False).head(5)\n",
    "c5=df_jaccard.groupby([\"Company\"]).get_group('Company120').sort_values('score', ascending=False).head(5)\n",
    "c6=df_jaccard.groupby([\"Company\"]).get_group('Company242').sort_values('score', ascending=False).head(5)\n",
    "c7=df_jaccard.groupby([\"Company\"]).get_group('Company300').sort_values('score', ascending=False).head(5)\n",
    "c8=df_jaccard.groupby([\"Company\"]).get_group('Company472').sort_values('score', ascending=False).head(5)\n",
    "ct=pd.concat([c1,c2,c3])\n"
   ]
  },
  {
   "cell_type": "code",
   "execution_count": 148,
   "metadata": {},
   "outputs": [],
   "source": [
    "prueba1=df_jaccard.head(5)"
   ]
  },
  {
   "cell_type": "code",
   "execution_count": 149,
   "metadata": {},
   "outputs": [],
   "source": [
    "import networkx as nx\n",
    "DG=nx.DiGraph()\n",
    "for row in ct.iterrows():\n",
    "    DG.add_edge(row[1][\"Freelance\"], row[1][\"Company\"], score=row[1][\"score\"])\n",
    "    "
   ]
  },
  {
   "cell_type": "code",
   "execution_count": 150,
   "metadata": {},
   "outputs": [
    {
     "data": {
      "text/plain": [
       "NodeDataView({46156: {}, 'Company1': {}, 25933: {}, 37629: {}, 50565: {}, 7769: {}, 27385: {}, 'Company35': {}, 35199: {}, 18648: {}, 47258: {}, 50582: {}, 'Company50': {}, 51127: {}, 2587: {}, 48949: {}})"
      ]
     },
     "execution_count": 150,
     "metadata": {},
     "output_type": "execute_result"
    }
   ],
   "source": [
    "DG.nodes(data=True)"
   ]
  },
  {
   "cell_type": "markdown",
   "metadata": {},
   "source": [
    "Para visualizar el grafo completo"
   ]
  },
  {
   "cell_type": "code",
   "execution_count": 153,
   "metadata": {},
   "outputs": [
    {
     "data": {
      "image/png": "[encoded data removed]",
      "text/plain": [
       "<Figure size 432x288 with 1 Axes>"
      ]
     },
     "metadata": {},
     "output_type": "display_data"
    }
   ],
   "source": [
    "nx.draw_circular(DG, node_color=\"pink\",edge_color=\"lightblue\", font_size=14,width=2, with_labels=True, node_size=400,)"
   ]
  },
  {
   "cell_type": "markdown",
   "metadata": {},
   "source": [
    "Ejemplo de freelancers y companias"
   ]
  },
  {
   "cell_type": "code",
   "execution_count": null,
   "metadata": {},
   "outputs": [],
   "source": []
  }
 ],
 "metadata": {
  "kernelspec": {
   "display_name": "Python 3",
   "language": "python",
   "name": "python3"
  },
  "language_info": {
   "codemirror_mode": {
    "name": "ipython",
    "version": 3
   },
   "file_extension": ".py",
   "mimetype": "text/x-python",
   "name": "python",
   "nbconvert_exporter": "python",
   "pygments_lexer": "ipython3",
   "version": "3.7.3"
  }
 },
 "nbformat": 4,
 "nbformat_minor": 2
}
