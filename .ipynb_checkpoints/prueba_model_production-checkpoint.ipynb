{
 "cells": [
  {
   "cell_type": "markdown",
   "metadata": {},
   "source": [
    "# Creación de una API para deployment de un modelo (poner modelo en producción)"
   ]
  },
  {
   "cell_type": "markdown",
   "metadata": {},
   "source": [
    "## Introducción a API's machine learning"
   ]
  },
  {
   "cell_type": "markdown",
   "metadata": {},
   "source": [
    "Para poner el modelo en producción una buena opción es convertirlo en una API de tipo web service (\"web service is a form of API only that assumes that an API is hosted over a server and can be consumed\")\n",
    "\n",
    "Flask te permite desarrollar web services en Python. \n",
    "\n",
    "Lo que vamos a hacer es crear una API que entrene un modelo, lo guarde, y después te permita introducir una nueva observación (por ejemplo, en formato .JSON), y sobre ella aplique todo el proceso y te saque las predicciones aplciando el modelo guardado, todo sin necesidad de pasar por el notebook. \n",
    "Para construir una API con Flask, se crean dos ficheros .py con una estructura determinada: model.py y app.py\n",
    "\n",
    "Lo que habrá que hacer será, correr en la terminal el fichero app.py que activa la API (por defecto, en el puerto 5000), y después utilizar una web que te permite probar APIS (API testing tool), introducir la URL del puerto y dónde se guardan las predicciones, e introducir una observación (en .JSON) para que te devuelva un valor.\n",
    "\n",
    "\n",
    "Ejemplos: \n",
    "\n",
    "https://www.datacamp.com/community/tutorials/machine-learning-models-api-python\n",
    "\n",
    "https://towardsdatascience.com/deploy-your-machine-learning-model-as-a-rest-api-4fe96bf8ddcc\n",
    "\n",
    "Página para probar el funcionamiento de una API: https://reqbin.com/"
   ]
  },
  {
   "cell_type": "markdown",
   "metadata": {},
   "source": [
    "## Código para model.py: entrenar modelo final y permitir pasar predicciones"
   ]
  },
  {
   "cell_type": "markdown",
   "metadata": {},
   "source": [
    "Para entrenar el modelo en producción no será necesario dividir en train y test, ni realizar la depuración sobre todas las variables, ni la selección de variables como hicimos al construir el modelo: aquí ya tenemos un modelo elegido (el cuál hemos comprobado que es estable para diferentes datos), así que en el script que creemos simplemente se realizarán los pasos necesarios para aplicar este modelo:\n",
    "\n",
    "- Del dataset que tengamos, seleccionamos solo las variables con las que se aplicaba este modelo final (modelo 4_2)\n",
    "- Sobre estas variables, se realiza la depuración que necesitaban\n",
    "- Se entrena el modelo elegido sobre todo el dataset de training (sin dividir en train y test)\n",
    "\n",
    "Este modelo se guardará, de forma que al introducir por fuera una nueva observación, te aplicará la depuración y el modelo guardado, y te generará unas predicciones (que se guardan donde indicas)"
   ]
  },
  {
   "cell_type": "markdown",
   "metadata": {},
   "source": [
    "### Depuración"
   ]
  },
  {
   "cell_type": "markdown",
   "metadata": {},
   "source": [
    "**Importación de datos**"
   ]
  },
  {
   "cell_type": "markdown",
   "metadata": {},
   "source": [
    "Aquí, se importarían datos actualizados. Como no contamos con nuevos datos, utilizaremos los mismos con los que se ha desarrollado todo el modelo"
   ]
  },
  {
   "cell_type": "code",
   "execution_count": 77,
   "metadata": {},
   "outputs": [
    {
     "name": "stdout",
     "output_type": "stream",
     "text": [
      "Requirement already satisfied: pycats in /anaconda3/lib/python3.7/site-packages (0.1.21)\n",
      "Note: you may need to restart the kernel to use updated packages.\n"
     ]
    }
   ],
   "source": [
    "pip install pycats"
   ]
  },
  {
   "cell_type": "code",
   "execution_count": 78,
   "metadata": {},
   "outputs": [],
   "source": [
    "import pycats \n",
    "from pycats import cat_lump\n",
    "import joblib\n",
    "import os\n",
    "import pandas as pd\n",
    "import numpy as np"
   ]
  },
  {
   "cell_type": "code",
   "execution_count": 98,
   "metadata": {},
   "outputs": [],
   "source": [
    "current_path = os.getcwd() #obtener la ruta donde se guarda este cuaderno\n",
    "dataset_path =current_path+'/startups_data.csv' #obtener la ruta donde se guarda el conjunto de datos de startups\n",
    "\n",
    "df=pd.read_csv(dataset_path, na_values=['none','None'])"
   ]
  },
  {
   "cell_type": "markdown",
   "metadata": {},
   "source": [
    "**Selección de columnas necesarias para el modelo**"
   ]
  },
  {
   "cell_type": "markdown",
   "metadata": {},
   "source": [
    "Nos quedamos solo con las columnas del modelo final. Primero tendremos que hacer el renombrado."
   ]
  },
  {
   "cell_type": "code",
   "execution_count": 99,
   "metadata": {},
   "outputs": [],
   "source": [
    "df.rename(columns={'Dependent-Company Status': 'status',\n",
    "    'Specialization of highest education':'specialization_highest_education',\n",
    "    'Focus on private or public data?' :'focus_private_or_public_data',\n",
    "    'Focus on structured or unstructured data' :'focus_structured_unstructured_data',\n",
    "    'Barriers of entry for the competitors':'barriers_entry_competitors',\n",
    "    'Industry trend in investing' :'industry_trend_investing',\n",
    "    'Predictive Analytics business':'predictive_analytics_business',\n",
    "    'Big Data Business':'big_data_business',\n",
    "    'Local or global player':'local_or_global_player',\n",
    "    'Top management similarity':'top_management_similarity',\n",
    "    'Renowned in professional circle':'renowned_professional_circle',\n",
    "    'Degree from a Tier 1 or Tier 2 university?':'degree_tier1_tier2_university',\n",
    "    'Number of  Sales Support material':'number_sales_support_material',\n",
    "    'B2C or B2B venture?':'B2C_or_B2B',\n",
    "    'Catering to product/service across verticals':'catering_product_service_across_verticals',\n",
    "    \"Top forums like 'Tech crunch' or 'Venture beat' talking about the company/model - How much is it being talked about?\":'top_forums_talking_about_company',\n",
    "    'Number of Co-founders':'number_cofounders',\n",
    "    'Gartner hype cycle stage':'gartner_hype_cycle_stage',\n",
    "    'Is the company an aggregator/market place? e.g. Bluekai':'aggregator_or_market_place',\n",
    "    'Employee benefits and salary structures':'employee_benefits_salary_structures',\n",
    "    'Consulting experience?':'consulting_experience',\n",
    "    'Relevance of experience to venture':'relevance_experience_venture',\n",
    "    'Relevance of education to venture':'relevance_education_venture',\n",
    "    'Team size Senior leadership':'team_size_senior_lead',\n",
    "    'Focus functions of company': 'focus_functions'},inplace=True) "
   ]
  },
  {
   "cell_type": "code",
   "execution_count": 100,
   "metadata": {},
   "outputs": [],
   "source": [
    "features_final_model=['relevance_experience_venture',\n",
    " 'relevance_education_venture',\n",
    " 'focus_structured_unstructured_data',\n",
    " 'local_or_global_player',\n",
    " 'big_data_business',\n",
    " 'top_management_similarity',\n",
    " 'renowned_professional_circle',\n",
    " 'degree_tier1_tier2_university',\n",
    " 'team_size_senior_lead',\n",
    " 'number_sales_support_material',\n",
    " 'B2C_or_B2B',\n",
    " 'catering_product_service_across_verticals',\n",
    " 'top_forums_talking_about_company',\n",
    " 'gartner_hype_cycle_stage',\n",
    " 'aggregator_or_market_place',\n",
    " 'focus_private_or_public_data',\n",
    " 'focus_functions',\n",
    " 'employee_benefits_salary_structures',\n",
    " 'specialization_highest_education',\n",
    " 'consulting_experience',\n",
    " 'number_cofounders',\n",
    " 'predictive_analytics_business',\n",
    " 'industry_trend_investing',\n",
    " 'barriers_entry_competitors']\n",
    "\n",
    "var_dep=['status']"
   ]
  },
  {
   "cell_type": "code",
   "execution_count": 101,
   "metadata": {},
   "outputs": [],
   "source": [
    "train_final=df[features_final_model+var_dep]"
   ]
  },
  {
   "cell_type": "markdown",
   "metadata": {},
   "source": [
    "**Depuración necesaria para esas columnas** (me fijo en el notebook de depuración)"
   ]
  },
  {
   "cell_type": "code",
   "execution_count": 64,
   "metadata": {},
   "outputs": [
    {
     "name": "stderr",
     "output_type": "stream",
     "text": [
      "//anaconda3/lib/python3.7/site-packages/ipykernel_launcher.py:4: SettingWithCopyWarning: \n",
      "A value is trying to be set on a copy of a slice from a DataFrame.\n",
      "Try using .loc[row_indexer,col_indexer] = value instead\n",
      "\n",
      "See the caveats in the documentation: https://pandas.pydata.org/pandas-docs/stable/user_guide/indexing.html#returning-a-view-versus-a-copy\n",
      "  after removing the cwd from sys.path.\n"
     ]
    }
   ],
   "source": [
    "#Reemplazar no info por NA para las numéricas\n",
    "\n",
    "\n",
    "train_final['renowned_professional_circle'] = train_final['renowned_professional_circle'].map(lambda item : np.nan if item == 'No Info' else item)\n"
   ]
  },
  {
   "cell_type": "code",
   "execution_count": 72,
   "metadata": {},
   "outputs": [
    {
     "name": "stderr",
     "output_type": "stream",
     "text": [
      "//anaconda3/lib/python3.7/site-packages/ipykernel_launcher.py:7: SettingWithCopyWarning: \n",
      "A value is trying to be set on a copy of a slice from a DataFrame.\n",
      "Try using .loc[row_indexer,col_indexer] = value instead\n",
      "\n",
      "See the caveats in the documentation: https://pandas.pydata.org/pandas-docs/stable/user_guide/indexing.html#returning-a-view-versus-a-copy\n",
      "  import sys\n"
     ]
    }
   ],
   "source": [
    "#Transformar tipo de datos\n",
    "\n",
    "transform_to_float=['renowned_professional_circle', 'team_size_senior_lead', 'number_cofounders']\n",
    "\n",
    "for col in transform_to_float:\n",
    "\n",
    "    train_final[col]=train_final[col].astype(float)"
   ]
  },
  {
   "cell_type": "markdown",
   "metadata": {},
   "source": [
    "**Imputar NA**"
   ]
  },
  {
   "cell_type": "code",
   "execution_count": 75,
   "metadata": {},
   "outputs": [
    {
     "name": "stderr",
     "output_type": "stream",
     "text": [
      "//anaconda3/lib/python3.7/site-packages/ipykernel_launcher.py:5: SettingWithCopyWarning: \n",
      "A value is trying to be set on a copy of a slice from a DataFrame.\n",
      "Try using .loc[row_indexer,col_indexer] = value instead\n",
      "\n",
      "See the caveats in the documentation: https://pandas.pydata.org/pandas-docs/stable/user_guide/indexing.html#returning-a-view-versus-a-copy\n",
      "  \"\"\"\n",
      "//anaconda3/lib/python3.7/site-packages/ipykernel_launcher.py:12: SettingWithCopyWarning: \n",
      "A value is trying to be set on a copy of a slice from a DataFrame.\n",
      "Try using .loc[row_indexer,col_indexer] = value instead\n",
      "\n",
      "See the caveats in the documentation: https://pandas.pydata.org/pandas-docs/stable/user_guide/indexing.html#returning-a-view-versus-a-copy\n",
      "  if sys.path[0] == '':\n"
     ]
    }
   ],
   "source": [
    "cols_numeric=train_final.select_dtypes(include=[\"float64\"]).columns\n",
    "\n",
    "for col in cols_numeric:\n",
    "    \n",
    "    train_final[col] = train_final[col].fillna(train_final[col].mean())\n",
    "    \n",
    "    \n",
    "cols_object=train_final.select_dtypes(include=[\"object\"]).columns\n",
    "\n",
    "for col in cols_object:\n",
    "\n",
    "    train_final[col] = train_final[col].fillna('No Info')"
   ]
  },
  {
   "cell_type": "markdown",
   "metadata": {},
   "source": [
    "**Codificación de categóricas**"
   ]
  },
  {
   "cell_type": "code",
   "execution_count": 76,
   "metadata": {},
   "outputs": [
    {
     "name": "stderr",
     "output_type": "stream",
     "text": [
      "//anaconda3/lib/python3.7/site-packages/pandas/core/series.py:4569: SettingWithCopyWarning: \n",
      "A value is trying to be set on a copy of a slice from a DataFrame\n",
      "\n",
      "See the caveats in the documentation: https://pandas.pydata.org/pandas-docs/stable/user_guide/indexing.html#returning-a-view-versus-a-copy\n",
      "  method=method,\n"
     ]
    }
   ],
   "source": [
    "train_final['focus_private_or_public_data'].replace(['no'],'No Info',inplace=True)\n",
    "train_final['focus_structured_unstructured_data'].replace(['no'],'No Info',inplace=True)\n",
    "train_final['local_or_global_player'].replace(['global','GLOBAL','GLObaL'],'Global',inplace=True)\n",
    "train_final['local_or_global_player'].replace(['local','LOCAL','local  '],'Local',inplace=True)"
   ]
  },
  {
   "cell_type": "code",
   "execution_count": 79,
   "metadata": {},
   "outputs": [
    {
     "name": "stderr",
     "output_type": "stream",
     "text": [
      "//anaconda3/lib/python3.7/site-packages/ipykernel_launcher.py:5: SettingWithCopyWarning: \n",
      "A value is trying to be set on a copy of a slice from a DataFrame.\n",
      "Try using .loc[row_indexer,col_indexer] = value instead\n",
      "\n",
      "See the caveats in the documentation: https://pandas.pydata.org/pandas-docs/stable/user_guide/indexing.html#returning-a-view-versus-a-copy\n",
      "  \"\"\"\n",
      "//anaconda3/lib/python3.7/site-packages/ipykernel_launcher.py:5: SettingWithCopyWarning: \n",
      "A value is trying to be set on a copy of a slice from a DataFrame.\n",
      "Try using .loc[row_indexer,col_indexer] = value instead\n",
      "\n",
      "See the caveats in the documentation: https://pandas.pydata.org/pandas-docs/stable/user_guide/indexing.html#returning-a-view-versus-a-copy\n",
      "  \"\"\"\n",
      "//anaconda3/lib/python3.7/site-packages/ipykernel_launcher.py:10: SettingWithCopyWarning: \n",
      "A value is trying to be set on a copy of a slice from a DataFrame.\n",
      "Try using .loc[row_indexer,col_indexer] = value instead\n",
      "\n",
      "See the caveats in the documentation: https://pandas.pydata.org/pandas-docs/stable/user_guide/indexing.html#returning-a-view-versus-a-copy\n",
      "  # Remove the CWD from sys.path while we load stuff.\n"
     ]
    }
   ],
   "source": [
    "vars_to_relevel=['focus_functions', 'specialization_highest_education']\n",
    "\n",
    "for var in vars_to_relevel:\n",
    "\n",
    "    train_final[var] = cat_lump(train_final[var].astype('category'), 29) \n",
    "\n",
    "    \n",
    "for col in vars_to_relevel: #volvemos a convertirlas a tipo object (para la función cat_lump era necesario transformarlas a 'category')\n",
    "\n",
    "    train_final[col]=train_final[col].astype(object)"
   ]
  },
  {
   "cell_type": "markdown",
   "metadata": {},
   "source": [
    "**Conversión a numéricas**: las categóricas se transforman a proporción success"
   ]
  },
  {
   "cell_type": "code",
   "execution_count": 81,
   "metadata": {},
   "outputs": [
    {
     "name": "stderr",
     "output_type": "stream",
     "text": [
      "//anaconda3/lib/python3.7/site-packages/ipykernel_launcher.py:3: SettingWithCopyWarning: \n",
      "A value is trying to be set on a copy of a slice from a DataFrame.\n",
      "Try using .loc[row_indexer,col_indexer] = value instead\n",
      "\n",
      "See the caveats in the documentation: https://pandas.pydata.org/pandas-docs/stable/user_guide/indexing.html#returning-a-view-versus-a-copy\n",
      "  This is separate from the ipykernel package so we can avoid doing imports until\n"
     ]
    }
   ],
   "source": [
    "train_final['status'].replace(['Success'], 1, inplace = True)\n",
    "train_final['status'].replace(['Failed'], 0, inplace = True)\n",
    "train_final['status'] = train_final['status'].astype(float)"
   ]
  },
  {
   "cell_type": "code",
   "execution_count": 82,
   "metadata": {},
   "outputs": [
    {
     "name": "stderr",
     "output_type": "stream",
     "text": [
      "//anaconda3/lib/python3.7/site-packages/ipykernel_launcher.py:7: SettingWithCopyWarning: \n",
      "A value is trying to be set on a copy of a slice from a DataFrame.\n",
      "Try using .loc[row_indexer,col_indexer] = value instead\n",
      "\n",
      "See the caveats in the documentation: https://pandas.pydata.org/pandas-docs/stable/user_guide/indexing.html#returning-a-view-versus-a-copy\n",
      "  import sys\n"
     ]
    }
   ],
   "source": [
    "# Seleccionamos sólo variables de tipo \"object\"\n",
    "df_only_cat = train_final.select_dtypes(include=[object])\n",
    "\n",
    "# Sustituimos categorías por la proporción de Success\n",
    "for var in df_only_cat.columns:\n",
    "    prop = train_final.groupby(var)[\"status\"].sum()/len(train_final)\n",
    "    df_only_cat[var] = df_only_cat[var].map(prop)\n",
    "\n",
    "# Concatenamos con el resto de variables\n",
    "train_final = pd.concat([train_final.drop(df_only_cat.columns, axis=1), df_only_cat], axis=1)\n"
   ]
  },
  {
   "cell_type": "markdown",
   "metadata": {},
   "source": [
    "### Entrenar modelo"
   ]
  },
  {
   "cell_type": "code",
   "execution_count": 89,
   "metadata": {},
   "outputs": [],
   "source": [
    "from sklearn.linear_model import Lasso\n",
    "\n",
    "model = Lasso(alpha=0.0001, normalize=True, max_iter=10000)\n",
    "\n",
    "model_fit = model.fit(train_final[features_final_model], train_final['status'])"
   ]
  },
  {
   "cell_type": "markdown",
   "metadata": {},
   "source": [
    "### Guardar modelo"
   ]
  },
  {
   "cell_type": "code",
   "execution_count": 90,
   "metadata": {},
   "outputs": [
    {
     "name": "stderr",
     "output_type": "stream",
     "text": [
      "//anaconda3/lib/python3.7/site-packages/sklearn/externals/joblib/__init__.py:15: DeprecationWarning: sklearn.externals.joblib is deprecated in 0.21 and will be removed in 0.23. Please import this functionality directly from joblib, which can be installed with: pip install joblib. If this warning is raised when loading pickled models, you may need to re-serialize those models with scikit-learn 0.21+.\n",
      "  warnings.warn(msg, category=DeprecationWarning)\n"
     ]
    },
    {
     "data": {
      "text/plain": [
       "['model.pkl']"
      ]
     },
     "execution_count": 90,
     "metadata": {},
     "output_type": "execute_result"
    }
   ],
   "source": [
    "joblib.dump(model_fit, 'model.pkl')"
   ]
  },
  {
   "cell_type": "markdown",
   "metadata": {},
   "source": [
    "Así, el modelo está guardado y se puede cargar directamente.\n",
    "Para utilizar tu modelo con Flask, necesitarás cargarlo y crear una API que coge las variables input en formato .JSON, las transforma y saca las predicciones"
   ]
  },
  {
   "cell_type": "code",
   "execution_count": 91,
   "metadata": {},
   "outputs": [
    {
     "name": "stdout",
     "output_type": "stream",
     "text": [
      "Models columns dumped!\n"
     ]
    }
   ],
   "source": [
    "# Load the model that you just saved\n",
    "model_saved = joblib.load('model.pkl')\n",
    "\n",
    "# Saving the data columns from training\n",
    "model_columns = list(features_final_model)\n",
    "joblib.dump(model_columns, 'model_columns.pkl')\n",
    "print(\"Models columns dumped!\")"
   ]
  },
  {
   "cell_type": "code",
   "execution_count": 102,
   "metadata": {},
   "outputs": [
    {
     "data": {
      "text/plain": [
       "['relevance_experience_venture',\n",
       " 'relevance_education_venture',\n",
       " 'focus_structured_unstructured_data',\n",
       " 'local_or_global_player',\n",
       " 'big_data_business',\n",
       " 'top_management_similarity',\n",
       " 'renowned_professional_circle',\n",
       " 'degree_tier1_tier2_university',\n",
       " 'team_size_senior_lead',\n",
       " 'number_sales_support_material',\n",
       " 'B2C_or_B2B',\n",
       " 'catering_product_service_across_verticals',\n",
       " 'top_forums_talking_about_company',\n",
       " 'gartner_hype_cycle_stage',\n",
       " 'aggregator_or_market_place',\n",
       " 'focus_private_or_public_data',\n",
       " 'focus_functions',\n",
       " 'employee_benefits_salary_structures',\n",
       " 'specialization_highest_education',\n",
       " 'consulting_experience',\n",
       " 'number_cofounders',\n",
       " 'predictive_analytics_business',\n",
       " 'industry_trend_investing',\n",
       " 'barriers_entry_competitors',\n",
       " 'status']"
      ]
     },
     "execution_count": 102,
     "metadata": {},
     "output_type": "execute_result"
    }
   ],
   "source": [
    "list(train_final.columns)"
   ]
  },
  {
   "cell_type": "code",
   "execution_count": 103,
   "metadata": {},
   "outputs": [],
   "source": [
    "x=[\n",
    "    {\"Age\": 85, \"Sex\": \"male\", \"Embarked\": \"S\"},\n",
    "    {\"Age\": 24, \"Sex\": '\"female\"', \"Embarked\": \"C\"},\n",
    "    {\"Age\": 3, \"Sex\": \"male\", \"Embarked\": \"C\"},\n",
    "    {\"Age\": 21, \"Sex\": \"male\", \"Embarked\": \"S\"}\n",
    "]"
   ]
  },
  {
   "cell_type": "code",
   "execution_count": 113,
   "metadata": {},
   "outputs": [],
   "source": [
    "df=pd.DataFrame(x)"
   ]
  },
  {
   "cell_type": "code",
   "execution_count": 114,
   "metadata": {},
   "outputs": [
    {
     "data": {
      "text/html": [
       "<div>\n",
       "<style scoped>\n",
       "    .dataframe tbody tr th:only-of-type {\n",
       "        vertical-align: middle;\n",
       "    }\n",
       "\n",
       "    .dataframe tbody tr th {\n",
       "        vertical-align: top;\n",
       "    }\n",
       "\n",
       "    .dataframe thead th {\n",
       "        text-align: right;\n",
       "    }\n",
       "</style>\n",
       "<table border=\"1\" class=\"dataframe\">\n",
       "  <thead>\n",
       "    <tr style=\"text-align: right;\">\n",
       "      <th></th>\n",
       "      <th>Age</th>\n",
       "      <th>Sex</th>\n",
       "      <th>Embarked</th>\n",
       "    </tr>\n",
       "  </thead>\n",
       "  <tbody>\n",
       "    <tr>\n",
       "      <th>0</th>\n",
       "      <td>85</td>\n",
       "      <td>male</td>\n",
       "      <td>S</td>\n",
       "    </tr>\n",
       "    <tr>\n",
       "      <th>1</th>\n",
       "      <td>24</td>\n",
       "      <td>\"female\"</td>\n",
       "      <td>C</td>\n",
       "    </tr>\n",
       "    <tr>\n",
       "      <th>2</th>\n",
       "      <td>3</td>\n",
       "      <td>male</td>\n",
       "      <td>C</td>\n",
       "    </tr>\n",
       "    <tr>\n",
       "      <th>3</th>\n",
       "      <td>21</td>\n",
       "      <td>male</td>\n",
       "      <td>S</td>\n",
       "    </tr>\n",
       "  </tbody>\n",
       "</table>\n",
       "</div>"
      ],
      "text/plain": [
       "   Age       Sex Embarked\n",
       "0   85      male        S\n",
       "1   24  \"female\"        C\n",
       "2    3      male        C\n",
       "3   21      male        S"
      ]
     },
     "execution_count": 114,
     "metadata": {},
     "output_type": "execute_result"
    }
   ],
   "source": [
    "df"
   ]
  },
  {
   "cell_type": "code",
   "execution_count": null,
   "metadata": {},
   "outputs": [],
   "source": []
  }
 ],
 "metadata": {
  "kernelspec": {
   "display_name": "Python 3",
   "language": "python",
   "name": "python3"
  },
  "language_info": {
   "codemirror_mode": {
    "name": "ipython",
    "version": 3
   },
   "file_extension": ".py",
   "mimetype": "text/x-python",
   "name": "python",
   "nbconvert_exporter": "python",
   "pygments_lexer": "ipython3",
   "version": "3.7.3"
  }
 },
 "nbformat": 4,
 "nbformat_minor": 2
}
