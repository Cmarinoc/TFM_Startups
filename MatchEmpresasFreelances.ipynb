{
 "cells": [
  {
   "cell_type": "markdown",
   "metadata": {},
   "source": [
    "### Match entre empresas y  freelances mediante el índice de Jaccard  "
   ]
  },
  {
   "cell_type": "code",
   "execution_count": 1,
   "metadata": {},
   "outputs": [],
   "source": [
    "#librerías necesarias\n",
    "import pandas as pd\n",
    "import os\n",
    "import sys\n"
   ]
  },
  {
   "cell_type": "code",
   "execution_count": 2,
   "metadata": {},
   "outputs": [],
   "source": [
    "# El path donde estén tus csv\n",
    "path=\"C://Users//lopez//Documents//cursos//master BIG DATA//TFM\"\n",
    "#os.getcwd()\n",
    "os.chdir(path)\n",
    "# creamos los dataframes de los csv de compañías y freelances.\n",
    "companies = pd.read_csv(\"companies.csv\")\n",
    "freelances = pd.read_csv(\"freelances.csv\")"
   ]
  },
  {
   "cell_type": "code",
   "execution_count": 4,
   "metadata": {},
   "outputs": [],
   "source": [
    "# Cogemos los datasets con los campos que vamos a necesitar\n",
    "companies_cols=[\"Company_Name\",\"Industry of company\",\"Predictive Analytics business\",\"Speech analytics business\",\"Predictive Analytics business\",\n",
    "                \"Big Data Business\",\"Machine Learning based business\",\"Highest education\",\"Specialization of highest education\",\n",
    "                \"Percent_skill_Entrepreneurship\",\"Percent_skill_Operations\",\"Percent_skill_Engineering\",\"Percent_skill_Engineering\",\n",
    "                \"Percent_skill_Leadership\", \"Percent_skill_Business Strategy\"]\n",
    "\n",
    "companies=companies[companies_cols]\n",
    "\n",
    "freelances_cols=[\"DeveloperType\",\"FormalEducation\",\"MajorUndergrad\",\"BuildingThings\",\"LearningNewTech\",\"RightWrongWay\",\"CompetePeers\",\n",
    "                \"DiversityImportant\",\"ChallengeMyself\",\"ChangeWorld\",\"UnderstandComputers\",\"InvestTimeTools\"]\n",
    "\n",
    "freelances=freelances[freelances_cols]"
   ]
  },
  {
   "cell_type": "markdown",
   "metadata": {},
   "source": [
    "#### Funciones para crear los datasets finales que usaremos para aplicar el íncide de Jaccard"
   ]
  },
  {
   "cell_type": "code",
   "execution_count": 5,
   "metadata": {},
   "outputs": [],
   "source": [
    "# Funciones relacionadas con habilidades\n",
    "# Falta definir bien los input y output en las funciones.\n",
    "def recode(companies,col_percent_skill):\n",
    "    \"\"\"\n",
    "    c=recode(companies,\"Percent_skill_Business Strategy\")\n",
    "    c[\"Percent_skill_Business Strategy\"].unique().tolist()\n",
    "    \n",
    "    \"\"\"\n",
    "    df_comp=companies.copy()\n",
    "    df_comp[col_percent_skill]=df_comp[col_percent_skill].replace('No Info',101)\n",
    "    df_comp[col_percent_skill]=df_comp[col_percent_skill].astype(float)\n",
    "    df_comp.loc[(df_comp[col_percent_skill] >=0 ) & (df_comp[col_percent_skill] < 20), col_percent_skill] = 0.2\n",
    "    df_comp.loc[(df_comp[col_percent_skill] >=20 ) & (df_comp[col_percent_skill] < 40), col_percent_skill] = 0.4\n",
    "    df_comp.loc[(df_comp[col_percent_skill] >=40) & (df_comp[col_percent_skill] < 60), col_percent_skill] = 0.6\n",
    "    df_comp.loc[(df_comp[col_percent_skill] >=60 ) & (df_comp[col_percent_skill] < 80), col_percent_skill] = 0.8\n",
    "    df_comp.loc[(df_comp[col_percent_skill] >=80) & (df_comp[col_percent_skill] < 100), col_percent_skill] = 1\n",
    "    df_comp.loc[(df_comp[col_percent_skill] == 101.0 ) , col_percent_skill] = \"NaN\"\n",
    "    \n",
    "    return df_comp\n",
    "\n",
    "def recode_other_skills(df_freelance,col_freelance):\n",
    "    \"\"\"\n",
    "    a=recodificar(freelances,\"BuildingThings\")\n",
    "    a[\"BuildingThings\"].unique().tolist()\n",
    "    \n",
    "    \"\"\"\n",
    "    df_aux = df_freelance.copy()\n",
    "    df_aux.loc[df_aux[variables_skill] == \"Strongly disagree\",variables_skill] = 0.2\n",
    "    df_aux.loc[df_aux[variables_skill] == \"Disagree\",variables_skill] = 0.4\n",
    "    df_aux.loc[df_aux[variables_skill] == \"Somewhat agree\",variables_skill] = 0.6\n",
    "    df_aux.loc[df_aux[variables_skill] == \"Agree\",variables_skill] = 0.8\n",
    "    df_aux.loc[df_aux[variables_skill] == \"Strongly agree\",variables_skill] = 1\n",
    "    \n",
    "    return df_aux\n"
   ]
  },
  {
   "cell_type": "code",
   "execution_count": 6,
   "metadata": {},
   "outputs": [],
   "source": [
    "# Funciones relacionadas con educación\n",
    "def recode_education(df_freelance,col_freelance):\n",
    "    \"\"\"\n",
    "    \n",
    "    \"\"\"\n",
    "    df_aux = df_freelance.copy()\n",
    "    df_aux.loc[df_aux[col_freelance] == \"Master's degree\",col_freelance] = \"Masters\"\n",
    "    df_aux.loc[(df_aux[col_freelance] == \"Professional degree\") |\n",
    "               (df_aux[col_freelance] == \"Bachelor's degree\"),col_freelance] = \"Bachelors\"\n",
    "    df_aux.loc[df_aux[col_freelance] == \"Doctoral degree\",col_freelance] = \"PhD\"\n",
    "    df_aux.loc[df_aux[col_freelance] == \"I prefer not to answer\",col_freelance] = \"No Info\"\n",
    "    df_aux.loc[(df_aux[col_freelance] == \"Secondary school\") |\n",
    "              (df_aux[col_freelance] == \"Some college/university study without earning a bachelor's degree\") |\n",
    "              (df_aux[col_freelance] == \"Primary/elementary school\") |\n",
    "              (df_aux[col_freelance] == \"I never completed any formal education\")\n",
    "               ,col_freelance] = \"under bachelor's degree\"\n",
    "    return df_aux\n",
    "\n",
    "\n",
    "\n",
    "\n"
   ]
  },
  {
   "cell_type": "code",
   "execution_count": null,
   "metadata": {},
   "outputs": [],
   "source": [
    "# Funciones relacionadas con habilidades técnicas"
   ]
  },
  {
   "cell_type": "code",
   "execution_count": null,
   "metadata": {},
   "outputs": [],
   "source": [
    "# Funciones para el teletrabajo"
   ]
  },
  {
   "cell_type": "code",
   "execution_count": null,
   "metadata": {},
   "outputs": [],
   "source": [
    "# Generamos los dataset finales"
   ]
  },
  {
   "cell_type": "code",
   "execution_count": 50,
   "metadata": {},
   "outputs": [
    {
     "name": "stdout",
     "output_type": "stream",
     "text": [
      "   company-freelance     score\n",
      "0           [c1, f1]  0.555556\n",
      "1           [c1, f2]  0.166667\n",
      "2           [c1, f3]  0.250000\n",
      "3           [c2, f1]  0.000000\n",
      "4           [c2, f2]  0.266667\n",
      "5           [c2, f3]  0.000000\n",
      "6           [c3, f1]  0.250000\n",
      "7           [c3, f2]  0.291667\n",
      "8           [c3, f3]  0.291667\n",
      "9           [c4, f1]  0.166667\n",
      "10          [c4, f2]  0.500000\n",
      "11          [c4, f3]  0.000000\n"
     ]
    }
   ],
   "source": [
    "# Aplicación del índice de Jaccard \n",
    "\n",
    "from sklearn.metrics import jaccard_score\n",
    "import numpy as np\n",
    "\n",
    "# Ejemplo\n",
    "comp_names=[\"c1\",\"c2\",\"c3\",\"c4\"]\n",
    "freelances_names=[\"f1\",\"f2\",\"f3\"]\n",
    "companies=np.array([[0,1,2,3,1,2],[1,2,1,1,4,1],[1,0,0,0,2,4],[1,1,1,1,1,1]])\n",
    "freelances=np.array([[0,0,0,3,1,2],[0,1,0,1,2,1],[0,0,2,9,5,4]])\n",
    "#Buscando todas las combinaciones posibles\n",
    "tuples = []\n",
    "#compania_t=companias.index.values\n",
    "lista=[]\n",
    "\n",
    "for i in range(len(companies)):\n",
    "    for j in range(len(freelances)):\n",
    "        comp_x=companies\n",
    "        free_y=freelances\n",
    "        jaccard=jaccard_score(comp_x[i], free_y[j],average=\"weighted\")\n",
    "        lista.append(jaccard)\n",
    "        tuples.append([comp_names[i],freelances_names[j]])\n",
    "                      \n",
    "df_match=pd.DataFrame({'company-freelance' : tuples, 'score':lista})\n",
    "print(df_match)\n"
   ]
  },
  {
   "cell_type": "code",
   "execution_count": 7,
   "metadata": {},
   "outputs": [
    {
     "data": {
      "text/plain": [
       "3"
      ]
     },
     "execution_count": 7,
     "metadata": {},
     "output_type": "execute_result"
    }
   ],
   "source": [
    "a=[[0,1,2,3,1,2],[1,2,1,1,4,1],[1,0,0,0,2,4]]\n",
    "len(a)"
   ]
  },
  {
   "cell_type": "code",
   "execution_count": null,
   "metadata": {},
   "outputs": [],
   "source": [
    "\n",
    "companias= pd.read_excel(open(\"C://Users//Usuario//Desktop//TFM//Companias2.xlsx\",'rb'),index_col=0)\n",
    "freelances= pd.read_excel(open(\"C://Users//Usuario//Desktop//TFM//Frelancer.xlsx\",'rb'), index_col=0)\n",
    "\n",
    "#Para una fila \n",
    "from sklearn.metrics import jaccard_similarity_score\n",
    "comp=companias.iloc[0]\n",
    "free=freelances.iloc[0]\n",
    "jaccard_similarity_score(comp, free)\n",
    "print()\n",
    "\n",
    "#Iterando en fila 1 con fila 1, fila 2 con fila 2 \n",
    "\n",
    "#Buscando todas las combinaciones posibles\n",
    "import itertools\n",
    "num = [0,1,2,3,4,5]\n",
    "tuples = []\n",
    "compania_t=companias.index.values\n",
    "\n",
    "res = itertools.combinations(num, 2)\n",
    "for e in res:\n",
    "    tuples.append(e)\n",
    "        \n",
    "\n",
    "lista=[]\n",
    "\n",
    "for i in range(len(tuples)):\n",
    "    x=tuples[i][0]\n",
    "    y=tuples[i][1]\n",
    "    comp_x=companias.iloc[x]\n",
    "    free_y=freelances.iloc[y]\n",
    "    jaccard=jaccard_similarity_score(comp_x, free_y)\n",
    "    lista.append(jaccard)\n",
    "    \n",
    "df_match=pd.DataFrame({'tuplas': tuples, 'score':lista})\n",
    "print(df_match)\n"
   ]
  }
 ],
 "metadata": {
  "kernelspec": {
   "display_name": "Python 3",
   "language": "python",
   "name": "python3"
  },
  "language_info": {
   "codemirror_mode": {
    "name": "ipython",
    "version": 3
   },
   "file_extension": ".py",
   "mimetype": "text/x-python",
   "name": "python",
   "nbconvert_exporter": "python",
   "pygments_lexer": "ipython3",
   "version": "3.7.4"
  }
 },
 "nbformat": 4,
 "nbformat_minor": 4
}
