{
 "cells": [
  {
   "cell_type": "markdown",
   "metadata": {},
   "source": [
    "### Match entre empresas y  freelances mediante el índice de Jaccard  "
   ]
  },
  {
   "cell_type": "code",
   "execution_count": 1,
   "metadata": {},
   "outputs": [],
   "source": [
    "#librerías necesarias\n",
    "import pandas as pd\n",
    "import os\n",
    "import sys\n"
   ]
  },
  {
   "cell_type": "code",
   "execution_count": 2,
   "metadata": {},
   "outputs": [],
   "source": [
    "# El path donde estén tus csv\n",
    "path=\"C://Users//lopez//Documents//cursos//master BIG DATA//TFM\"\n",
    "#os.getcwd()\n",
    "os.chdir(path)\n",
    "# creamos los dataframes de los csv de compañías y freelances.\n",
    "companies = pd.read_csv(\"companies.csv\")\n",
    "freelances = pd.read_csv(\"freelances.csv\")"
   ]
  },
  {
   "cell_type": "code",
   "execution_count": 4,
   "metadata": {},
   "outputs": [],
   "source": [
    "# Cogemos los datasets con los campos que vamos a necesitar\n",
    "companies_cols=[\"Company_Name\",\"Industry of company\",\"Predictive Analytics business\",\"Speech analytics business\",\"Predictive Analytics business\",\n",
    "                \"Big Data Business\",\"Machine Learning based business\",\"Highest education\",\"Specialization of highest education\",\n",
    "                \"Percent_skill_Entrepreneurship\",\"Percent_skill_Operations\",\"Percent_skill_Engineering\",\"Percent_skill_Engineering\",\n",
    "                \"Percent_skill_Leadership\", \"Percent_skill_Business Strategy\"]\n",
    "\n",
    "companies=companies[companies_cols]\n",
    "\n",
    "freelances_cols=[\"DeveloperType\",\"FormalEducation\",\"MajorUndergrad\",\"BuildingThings\",\"LearningNewTech\",\"RightWrongWay\",\"CompetePeers\",\n",
    "                \"DiversityImportant\",\"ChallengeMyself\",\"ChangeWorld\",\"UnderstandComputers\",\"InvestTimeTools\"]\n",
    "\n",
    "freelances=freelances[freelances_cols]"
   ]
  },
  {
   "cell_type": "markdown",
   "metadata": {},
   "source": [
    "#### Funciones para crear los datasets finales que usaremos para aplicar el íncide de Jaccard"
   ]
  },
  {
   "cell_type": "code",
   "execution_count": 5,
   "metadata": {},
   "outputs": [],
   "source": [
    "# Funciones relacionadas con habilidades\n",
    "# Falta definir bien los input y output en las funciones.\n",
    "def recode(companies,col_percent_skill):\n",
    "    \"\"\"\n",
    "    c=recode(companies,\"Percent_skill_Business Strategy\")\n",
    "    c[\"Percent_skill_Business Strategy\"].unique().tolist()\n",
    "    \n",
    "    \"\"\"\n",
    "    df_comp=companies.copy()\n",
    "    df_comp[col_percent_skill]=df_comp[col_percent_skill].replace('No Info',101)\n",
    "    df_comp[col_percent_skill]=df_comp[col_percent_skill].astype(float)\n",
    "    df_comp.loc[(df_comp[col_percent_skill] >=0 ) & (df_comp[col_percent_skill] < 20), col_percent_skill] = 0.2\n",
    "    df_comp.loc[(df_comp[col_percent_skill] >=20 ) & (df_comp[col_percent_skill] < 40), col_percent_skill] = 0.4\n",
    "    df_comp.loc[(df_comp[col_percent_skill] >=40) & (df_comp[col_percent_skill] < 60), col_percent_skill] = 0.6\n",
    "    df_comp.loc[(df_comp[col_percent_skill] >=60 ) & (df_comp[col_percent_skill] < 80), col_percent_skill] = 0.8\n",
    "    df_comp.loc[(df_comp[col_percent_skill] >=80) & (df_comp[col_percent_skill] < 100), col_percent_skill] = 1\n",
    "    df_comp.loc[(df_comp[col_percent_skill] == 101.0 ) , col_percent_skill] = \"NaN\"\n",
    "    \n",
    "    return df_comp\n",
    "\n",
    "def recode_other_skills(df_freelance,col_freelance):\n",
    "    \"\"\"\n",
    "    a=recodificar(freelances,\"BuildingThings\")\n",
    "    a[\"BuildingThings\"].unique().tolist()\n",
    "    \n",
    "    \"\"\"\n",
    "    df_aux = df_freelance.copy()\n",
    "    df_aux.loc[df_aux[variables_skill] == \"Strongly disagree\",variables_skill] = 0.2\n",
    "    df_aux.loc[df_aux[variables_skill] == \"Disagree\",variables_skill] = 0.4\n",
    "    df_aux.loc[df_aux[variables_skill] == \"Somewhat agree\",variables_skill] = 0.6\n",
    "    df_aux.loc[df_aux[variables_skill] == \"Agree\",variables_skill] = 0.8\n",
    "    df_aux.loc[df_aux[variables_skill] == \"Strongly agree\",variables_skill] = 1\n",
    "    \n",
    "    return df_aux\n"
   ]
  },
  {
   "cell_type": "code",
   "execution_count": 6,
   "metadata": {},
   "outputs": [],
   "source": [
    "# Funciones relacionadas con educación\n",
    "def recode_education(df_freelance,col_freelance):\n",
    "    \"\"\"\n",
    "    \n",
    "    \"\"\"\n",
    "    df_aux = df_freelance.copy()\n",
    "    df_aux.loc[df_aux[col_freelance] == \"Master's degree\",col_freelance] = \"Masters\"\n",
    "    df_aux.loc[(df_aux[col_freelance] == \"Professional degree\") |\n",
    "               (df_aux[col_freelance] == \"Bachelor's degree\"),col_freelance] = \"Bachelors\"\n",
    "    df_aux.loc[df_aux[col_freelance] == \"Doctoral degree\",col_freelance] = \"PhD\"\n",
    "    df_aux.loc[df_aux[col_freelance] == \"I prefer not to answer\",col_freelance] = \"No Info\"\n",
    "    df_aux.loc[(df_aux[col_freelance] == \"Secondary school\") |\n",
    "              (df_aux[col_freelance] == \"Some college/university study without earning a bachelor's degree\") |\n",
    "              (df_aux[col_freelance] == \"Primary/elementary school\") |\n",
    "              (df_aux[col_freelance] == \"I never completed any formal education\")\n",
    "               ,col_freelance] = \"under bachelor's degree\"\n",
    "    return df_aux\n",
    "\n",
    "\n",
    "\n",
    "\n"
   ]
  },
  {
   "cell_type": "code",
   "execution_count": null,
   "metadata": {},
   "outputs": [],
   "source": [
    "# Funciones relacionadas con habilidades técnicas"
   ]
  },
  {
   "cell_type": "code",
   "execution_count": null,
   "metadata": {},
   "outputs": [],
   "source": [
    "# Funciones para el teletrabajo"
   ]
  },
  {
   "cell_type": "code",
   "execution_count": null,
   "metadata": {},
   "outputs": [],
   "source": [
    "# Generamos los dataset finales"
   ]
  },
  {
   "cell_type": "code",
   "execution_count": null,
   "metadata": {},
   "outputs": [],
   "source": [
    "# Aplicación del índice de Jaccard "
   ]
  }
 ],
 "metadata": {
  "kernelspec": {
   "display_name": "Python 3",
   "language": "python",
   "name": "python3"
  },
  "language_info": {
   "codemirror_mode": {
    "name": "ipython",
    "version": 3
   },
   "file_extension": ".py",
   "mimetype": "text/x-python",
   "name": "python",
   "nbconvert_exporter": "python",
   "pygments_lexer": "ipython3",
   "version": "3.7.4"
  }
 },
 "nbformat": 4,
 "nbformat_minor": 4
}
